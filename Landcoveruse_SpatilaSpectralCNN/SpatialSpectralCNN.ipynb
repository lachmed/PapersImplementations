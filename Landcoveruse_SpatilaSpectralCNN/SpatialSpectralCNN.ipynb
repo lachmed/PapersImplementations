{
 "cells": [
  {
   "cell_type": "code",
   "execution_count": 1,
   "id": "9101afed",
   "metadata": {
    "_cell_guid": "b1076dfc-b9ad-4769-8c92-a6c4dae69d19",
    "_uuid": "8f2839f25d086af736a60e9eeb907d3b93b6e0e5",
    "execution": {
     "iopub.execute_input": "2024-03-15T16:18:24.185091Z",
     "iopub.status.busy": "2024-03-15T16:18:24.184716Z",
     "iopub.status.idle": "2024-03-15T16:18:28.882192Z",
     "shell.execute_reply": "2024-03-15T16:18:28.881293Z"
    },
    "papermill": {
     "duration": 4.716833,
     "end_time": "2024-03-15T16:18:28.884628",
     "exception": false,
     "start_time": "2024-03-15T16:18:24.167795",
     "status": "completed"
    },
    "tags": []
   },
   "outputs": [],
   "source": [
    "import pandas as pd\n",
    "import numpy as np\n",
    "import requests\n",
    "import os\n",
    "import cv2 as cv\n",
    "import matplotlib.pyplot as plt\n",
    "\n",
    "import torch"
   ]
  },
  {
   "cell_type": "code",
   "execution_count": 20,
   "id": "3b106169",
   "metadata": {
    "execution": {
     "iopub.execute_input": "2024-03-15T16:18:29.597108Z",
     "iopub.status.busy": "2024-03-15T16:18:29.596434Z",
     "iopub.status.idle": "2024-03-15T16:18:29.606574Z",
     "shell.execute_reply": "2024-03-15T16:18:29.605388Z"
    },
    "papermill": {
     "duration": 0.029146,
     "end_time": "2024-03-15T16:18:29.609364",
     "exception": false,
     "start_time": "2024-03-15T16:18:29.580218",
     "status": "completed"
    },
    "tags": []
   },
   "outputs": [],
   "source": [
    "import random\n",
    "colors = {\n",
    " 0  :(0, 0, 0),\n",
    "1  :(255, 0, 0),\n",
    "\n",
    "2  :(255, 165, 0),\n",
    "\n",
    "3  :(255, 255, 0),\n",
    "\n",
    "4  :(0, 255, 0),\n",
    "\n",
    "5  :(0, 128, 128),\n",
    "\n",
    "6  :(0, 0, 255),\n",
    "\n",
    "7  :(75, 0, 130),\n",
    "\n",
    "8  :(148, 0, 211),\n",
    "\n",
    "9  :(255, 0, 255),\n",
    "\n",
    "10  :(255, 192, 203),\n",
    "\n",
    "11 :(139, 69, 19),\n",
    "\n",
    "12 :(128, 128, 128),\n",
    "13 :(25, 205, 55),\n",
    "\n",
    "14 :(255, 215, 0),\n",
    "\n",
    "15 :(192, 192, 192),\n",
    "\n",
    "16 :(192, 12, 18)\n",
    "\n",
    "}"
   ]
  },
  {
   "cell_type": "code",
   "execution_count": 21,
   "id": "21fe535f",
   "metadata": {
    "execution": {
     "iopub.execute_input": "2024-03-15T16:18:29.637725Z",
     "iopub.status.busy": "2024-03-15T16:18:29.637457Z",
     "iopub.status.idle": "2024-03-15T16:18:29.641425Z",
     "shell.execute_reply": "2024-03-15T16:18:29.640529Z"
    },
    "papermill": {
     "duration": 0.019935,
     "end_time": "2024-03-15T16:18:29.643461",
     "exception": false,
     "start_time": "2024-03-15T16:18:29.623526",
     "status": "completed"
    },
    "tags": []
   },
   "outputs": [],
   "source": [
    "def getSpectralTensor(x,y,im):\n",
    "    \"\"\"\n",
    "    x: abscissa of the pixel of interest\n",
    "    y: ordinate of the pixel of interest\n",
    "    im: the image in torch form ; (C,W,H)    \n",
    "\n",
    "    Returns the spectral vector of the pixel of interest i.e. The values of the pixel in each band of the multispectral image\n",
    "    \"\"\"\n",
    "\n",
    "    return im[:,x,y].type(torch.float)"
   ]
  },
  {
   "cell_type": "code",
   "execution_count": 22,
   "id": "a4f893ae",
   "metadata": {
    "execution": {
     "iopub.execute_input": "2024-03-15T16:18:29.671840Z",
     "iopub.status.busy": "2024-03-15T16:18:29.671568Z",
     "iopub.status.idle": "2024-03-15T16:18:29.697633Z",
     "shell.execute_reply": "2024-03-15T16:18:29.696816Z"
    },
    "papermill": {
     "duration": 0.04277,
     "end_time": "2024-03-15T16:18:29.699728",
     "exception": false,
     "start_time": "2024-03-15T16:18:29.656958",
     "status": "completed"
    },
    "tags": []
   },
   "outputs": [],
   "source": [
    "def getPatches(x,y,im,plen):\n",
    "    \n",
    "    \"\"\"\n",
    "    x: abscissa of the pixel of interest\n",
    "    y: ordinate of the pixel of interest\n",
    "    im: the image in torch form ; (C,W,H)\n",
    "    plen: lenght of the patch\n",
    "\n",
    "    Extracts a pixel of interest- centred patch with 0 padding in the edge cases.\n",
    "    \"\"\"\n",
    "        \n",
    "    center = plen//2\n",
    "    p = torch.zeros((im.shape[0],plen,plen))\n",
    "\n",
    "    p[:,center,center] = im[:,x,y]\n",
    "\n",
    "    lineStart = x - (plen-1)//2\n",
    "    lineEnd = lineStart + (plen-1)\n",
    "\n",
    "    columnStart = y - (plen-1)//2\n",
    "    columnEnd = columnStart + (plen-1)\n",
    "    \n",
    "    imLines, imCols = im.shape[1],im.shape[2]\n",
    "    \n",
    "        \n",
    "    if (lineStart >= 0 and lineEnd< imLines ) and  \\\n",
    "       (columnStart>= 0 and columnEnd < imCols):\n",
    "        return torch.tensor(im[:,lineStart:lineEnd+1,columnStart:columnEnd+1], dtype=torch.float)\n",
    "\n",
    "    \n",
    "    if lineStart < 0 and columnStart <0:             \n",
    "#         print(f\"here1| lineStart: {lineStart} | columnStart: {columnStart}\")    \n",
    "        if lineEnd>=imLines and columnEnd >=imCols:     \n",
    "#             print(f\"here1.1| lineEnd: {lineEnd} | columnEnd: {columnEnd}\")\n",
    "            p[:,abs(lineStart):plen-(lineEnd-(imLines-1)),abs(columnStart):plen-(columnEnd-(imCols-1))] = im[:,0:lineEnd+1,0:columnEnd+1]        \n",
    "            \n",
    "        elif lineEnd>=imLines and columnEnd < imCols:\n",
    "#             print(f\"here1.2| lineEnd: {lineEnd} | columnEnd: {columnEnd}\")\n",
    "            p[:,abs(lineStart):plen-(lineEnd-(imLines-1)),abs(columnStart):] = im[:,0:lineEnd+1,0:columnEnd+1]\n",
    "            \n",
    "        elif lineEnd<imLines and columnEnd >= imCols:\n",
    "#             print(f\"here1.3| lineEnd: {lineEnd} | columnEnd: {columnEnd}\")\n",
    "            p[:,abs(lineStart):,abs(columnStart):plen-(columnEnd-(imCols-1))] = im[:,0:lineEnd+1,0:columnEnd+1]\n",
    "            \n",
    "        else:\n",
    "#             print(f\"here1.4| lineEnd: {lineEnd} | columnEnd: {columnEnd}\")\n",
    "            p[:,abs(lineStart):,abs(columnStart):] = im[:,0:lineEnd+1,0:columnEnd+1]\n",
    "            \n",
    "            \n",
    "\n",
    "    elif lineStart < 0 and columnStart >= 0:    \n",
    "#         print(f\"here2| lineStart: {lineStart} | columnStart: {columnStart}\")    \n",
    "        if lineEnd>=imLines and columnEnd >=imCols:     \n",
    "#             print(f\"here2.1| lineEnd: {lineEnd} | columnEnd: {columnEnd}\")\n",
    "            p[:,abs(lineStart):plen-(lineEnd-(imLines-1)),0:plen-(columnEnd-(imCols-1))] = im[:,0:lineEnd+1,columnStart:columnEnd+1]\n",
    "            \n",
    "        elif lineEnd>=imLines and columnEnd < imCols:        \n",
    "#             print(f\"here2.2| lineEnd: {lineEnd} | columnEnd: {columnEnd}\")\n",
    "            p[:,abs(lineStart):plen-(lineEnd-(imLines-1)),0:] = im[:,0:lineEnd+1,columnStart:columnEnd+1]\n",
    "            \n",
    "        elif lineEnd<imLines and columnEnd >= imCols:\n",
    "#             print(f\"here2.3| lineEnd: {lineEnd} | columnEnd: {columnEnd}\")\n",
    "            p[:,abs(lineStart):,0:plen-(columnEnd-(imCols-1))] = im[:,0:lineEnd+1,columnStart:columnEnd+1]\n",
    "            \n",
    "        else:\n",
    "#             print(f\"here2.4| lineEnd: {lineEnd} | columnEnd: {columnEnd}\")\n",
    "            p[:,abs(lineStart):,0:] = im[:,0:lineEnd+1,columnStart:columnEnd+1]\n",
    "            \n",
    "\n",
    "\n",
    "    elif lineStart >= 0 and columnStart < 0:\n",
    "#         print(f\"here3| lineStart: {lineStart} | columnStart: {columnStart}\")    \n",
    "        if lineEnd>=imLines and columnEnd >=imCols:\n",
    "#             print(f\"here3.1| lineEnd: {lineEnd} | columnEnd: {columnEnd}\")\n",
    "            p[:,0:plen-(lineEnd-(imLines-1)),abs(columnStart):plen-(columnEnd-(imCols-1))] = im[:,lineStart:lineEnd+1,0:columnEnd+1]\n",
    "            \n",
    "        elif lineEnd>=imLines and columnEnd < imCols:\n",
    "#             print(f\"here3.2| lineEnd: {lineEnd} | columnEnd: {columnEnd}\")\n",
    "            p[:,0:plen-(lineEnd-(imLines-1)),abs(columnStart):] = im[:,lineStart:lineEnd+1,0:columnEnd+1]\n",
    "            \n",
    "        elif lineEnd<imLines and columnEnd >= imCols:\n",
    "#             print(f\"here3.3| lineEnd: {lineEnd} | columnEnd: {columnEnd}\")\n",
    "            p[:,0:,abs(columnStart):plen-(columnEnd-(imCols-1))] = im[:,lineStart:lineEnd+1,0:columnEnd+1]\n",
    "            \n",
    "        else:\n",
    "#             print(f\"here3.4| lineEnd: {lineEnd} | columnEnd: {columnEnd}\")\n",
    "            p[:,0:,abs(columnStart):] = im[:,lineStart:lineEnd+1,0:columnEnd+1]\n",
    "            \n",
    "            \n",
    "            \n",
    "    else:\n",
    "#         print(f\"here4| lineStart: {lineStart} | columnStart: {columnStart}\")    \n",
    "        if lineEnd>=imLines and columnEnd >=imCols:\n",
    "#             print(f\"here4.1| lineEnd: {lineEnd} | columnEnd: {columnEnd}\")\n",
    "            p[:,0:plen-(lineEnd-(imLines-1)),0:plen-(columnEnd-(imCols-1))] = im[:,lineStart:lineEnd+1,columnStart:columnEnd+1]\n",
    "            \n",
    "        elif lineEnd>=imLines and columnEnd < imCols:\n",
    "#             print(f\"here4.2| lineEnd: {lineEnd} | columnEnd: {columnEnd}\")\n",
    "            p[:,0:plen-(lineEnd-(imLines-1)),:] = im[:,lineStart:lineEnd+1,columnStart:columnEnd+1]\n",
    "            \n",
    "        elif lineEnd<imLines and columnEnd >= imCols:\n",
    "#             print(f\"here4.3| lineEnd: {lineEnd} | columnEnd: {columnEnd}\")\n",
    "            p[:,0:,0:plen-(columnEnd-(imCols-1))] = im[:,lineStart:lineEnd+1,columnStart:columnEnd+1]\n",
    "            \n",
    "        else:\n",
    "#             print(f\"here4.4| lineEnd: {lineEnd} | columnEnd: {columnEnd}\")\n",
    "            p[:,0:,0:] = im[:,lineStart:lineEnd+1,columnStart:columnEnd+1]\n",
    "            \n",
    "#     plt.imshow(p.permute(1,2,0))\n",
    "    return p"
   ]
  },
  {
   "cell_type": "code",
   "execution_count": 23,
   "id": "500fc61b",
   "metadata": {
    "execution": {
     "iopub.execute_input": "2024-03-15T16:18:29.769490Z",
     "iopub.status.busy": "2024-03-15T16:18:29.769130Z",
     "iopub.status.idle": "2024-03-15T16:18:29.773230Z",
     "shell.execute_reply": "2024-03-15T16:18:29.772365Z"
    },
    "papermill": {
     "duration": 0.021685,
     "end_time": "2024-03-15T16:18:29.775433",
     "exception": false,
     "start_time": "2024-03-15T16:18:29.753748",
     "status": "completed"
    },
    "tags": []
   },
   "outputs": [],
   "source": [
    "# from torchvision import transforms\n",
    "\n",
    "# normalize = transforms.Normalize(mean=[0.5 for _ in range(204)], std=[0.5 for _ in range(204)])\n"
   ]
  },
  {
   "cell_type": "code",
   "execution_count": 24,
   "id": "1649547c",
   "metadata": {
    "execution": {
     "iopub.execute_input": "2024-03-15T16:18:29.804147Z",
     "iopub.status.busy": "2024-03-15T16:18:29.803872Z",
     "iopub.status.idle": "2024-03-15T16:18:29.814771Z",
     "shell.execute_reply": "2024-03-15T16:18:29.813869Z"
    },
    "papermill": {
     "duration": 0.027438,
     "end_time": "2024-03-15T16:18:29.816728",
     "exception": false,
     "start_time": "2024-03-15T16:18:29.789290",
     "status": "completed"
    },
    "tags": []
   },
   "outputs": [],
   "source": [
    "import torch.nn as nn\n",
    "\n",
    "\n",
    "class MSIClassSpecSpat(nn.Module):\n",
    "    \n",
    "    def __init__(self, image, in_channels):\n",
    "        super().__init__()\n",
    "        \n",
    "        self.image = image.to(device).permute(2,0,1).type(torch.float)\n",
    "        \n",
    "                \n",
    "        # spectral\n",
    "        \n",
    "        \n",
    "        self.Conv1d_1 = nn.Conv1d(1,20,16)\n",
    "        self.Conv1d_2 = nn.Conv1d(20,9,16)\n",
    "        self.MaxPool1d = nn.MaxPool1d(5)\n",
    "        \n",
    "        \n",
    "        # spatial\n",
    "        \n",
    "        self.Conv2d_1 = nn.Conv2d(in_channels, 30,(3,3))\n",
    "        self.Conv2d_2 = nn.Conv2d(30, 4,(3,3))        \n",
    "        self.MaxPool2d = nn.MaxPool2d((2,2))\n",
    "        \n",
    "        # FC\n",
    "        \n",
    "        self.FC1 = nn.Linear(394,394)\n",
    "        self.FC2 = nn.Linear(394,17)\n",
    "        \n",
    "        self.softmax = nn.Softmax()\n",
    "        \n",
    "    \n",
    "    def forward(self,x,y):\n",
    "#         sT = getSpectralTensor(x,y,self.image)        \n",
    "#         p = makeAPatch(x,y,self.image,21)        \n",
    "        \n",
    "#         rSpectral = self.Conv1d_2(self.MaxPool1d(self.Conv1d_1(sT.reshape(1,204))))\n",
    "        \n",
    "#         rSpatial = self.Conv2d_2(self.MaxPool2d(self.Conv2d_1(torch.permute(p,(2,0,1)).to(device))))\n",
    "#         SpatialSpectral = torch.concat((rSpectral.flatten(), rSpatial.flatten()))\n",
    "        \n",
    "        #return self.FC2(self.FC1(SpatialSpectral))\n",
    "    \n",
    "        return self.FC2(self.FC1(torch.concat((self.Conv1d_2(self.MaxPool1d(self.Conv1d_1(getSpectralTensor(x,y,self.image).reshape(1,204)))).flatten(), self.Conv2d_2(self.MaxPool2d(self.Conv2d_1(getPatches(x,y,self.image,21).to(device)))).flatten()))))\n",
    "        \n",
    "                "
   ]
  },
  {
   "cell_type": "code",
   "execution_count": 25,
   "id": "32443f12",
   "metadata": {
    "execution": {
     "iopub.execute_input": "2024-03-15T16:18:29.846266Z",
     "iopub.status.busy": "2024-03-15T16:18:29.845956Z",
     "iopub.status.idle": "2024-03-15T16:18:29.849883Z",
     "shell.execute_reply": "2024-03-15T16:18:29.848961Z"
    },
    "papermill": {
     "duration": 0.020925,
     "end_time": "2024-03-15T16:18:29.852136",
     "exception": false,
     "start_time": "2024-03-15T16:18:29.831211",
     "status": "completed"
    },
    "tags": []
   },
   "outputs": [],
   "source": [
    "# torch.nn.functional.softmax(mtest(0,0))"
   ]
  },
  {
   "cell_type": "code",
   "execution_count": 26,
   "id": "65480fc5",
   "metadata": {
    "execution": {
     "iopub.execute_input": "2024-03-15T16:18:29.885040Z",
     "iopub.status.busy": "2024-03-15T16:18:29.884038Z",
     "iopub.status.idle": "2024-03-15T16:18:29.941459Z",
     "shell.execute_reply": "2024-03-15T16:18:29.940449Z"
    },
    "papermill": {
     "duration": 0.077208,
     "end_time": "2024-03-15T16:18:29.943533",
     "exception": false,
     "start_time": "2024-03-15T16:18:29.866325",
     "status": "completed"
    },
    "tags": []
   },
   "outputs": [
    {
     "data": {
      "text/plain": [
       "'cuda'"
      ]
     },
     "execution_count": 26,
     "metadata": {},
     "output_type": "execute_result"
    }
   ],
   "source": [
    "device = \"cuda\" if torch.cuda.is_available() else 'cpu'\n",
    "device"
   ]
  },
  {
   "cell_type": "code",
   "execution_count": 27,
   "id": "b5b197a1",
   "metadata": {
    "execution": {
     "iopub.execute_input": "2024-03-15T16:18:29.972406Z",
     "iopub.status.busy": "2024-03-15T16:18:29.972051Z",
     "iopub.status.idle": "2024-03-15T16:18:30.890246Z",
     "shell.execute_reply": "2024-03-15T16:18:30.889368Z"
    },
    "papermill": {
     "duration": 0.935699,
     "end_time": "2024-03-15T16:18:30.893041",
     "exception": false,
     "start_time": "2024-03-15T16:18:29.957342",
     "status": "completed"
    },
    "tags": []
   },
   "outputs": [],
   "source": [
    "# original data is in matlab format so transform it to python\n",
    "import scipy.io as sio\n",
    "mat_fname  = \"/kaggle/input/salinas/Salinas_corrected.mat\" # path to the matlab format image\n",
    "salinas_corrected = sio.loadmat(mat_fname)\n",
    "\n",
    "mat_fname2  = \"/kaggle/input/salinas/Salinas_gt.mat\" # path to the matlab format ground truth labels\n",
    "salinas_gt = sio.loadmat(mat_fname2)"
   ]
  },
  {
   "cell_type": "code",
   "execution_count": 28,
   "id": "be0a3b28",
   "metadata": {
    "execution": {
     "iopub.execute_input": "2024-03-15T16:18:30.925109Z",
     "iopub.status.busy": "2024-03-15T16:18:30.924635Z",
     "iopub.status.idle": "2024-03-15T16:18:30.970984Z",
     "shell.execute_reply": "2024-03-15T16:18:30.969911Z"
    },
    "papermill": {
     "duration": 0.06414,
     "end_time": "2024-03-15T16:18:30.973455",
     "exception": false,
     "start_time": "2024-03-15T16:18:30.909315",
     "status": "completed"
    },
    "tags": []
   },
   "outputs": [],
   "source": [
    "salinas_data = torch.tensor(salinas_corrected['salinas_corrected'])"
   ]
  },
  {
   "cell_type": "code",
   "execution_count": 29,
   "id": "98bc6595",
   "metadata": {
    "execution": {
     "iopub.execute_input": "2024-03-15T16:18:31.003163Z",
     "iopub.status.busy": "2024-03-15T16:18:31.002864Z",
     "iopub.status.idle": "2024-03-15T16:18:31.007652Z",
     "shell.execute_reply": "2024-03-15T16:18:31.006719Z"
    },
    "papermill": {
     "duration": 0.021482,
     "end_time": "2024-03-15T16:18:31.009669",
     "exception": false,
     "start_time": "2024-03-15T16:18:30.988187",
     "status": "completed"
    },
    "tags": []
   },
   "outputs": [],
   "source": [
    "salinas_gt_data = torch.tensor(salinas_gt[\"salinas_gt\"])"
   ]
  },
  {
   "cell_type": "code",
   "execution_count": 30,
   "id": "4626619a",
   "metadata": {
    "execution": {
     "iopub.execute_input": "2024-03-15T16:18:31.040096Z",
     "iopub.status.busy": "2024-03-15T16:18:31.039770Z",
     "iopub.status.idle": "2024-03-15T16:18:31.067344Z",
     "shell.execute_reply": "2024-03-15T16:18:31.066158Z"
    },
    "papermill": {
     "duration": 0.044901,
     "end_time": "2024-03-15T16:18:31.069646",
     "exception": false,
     "start_time": "2024-03-15T16:18:31.024745",
     "status": "completed"
    },
    "tags": []
   },
   "outputs": [
    {
     "data": {
      "text/plain": [
       "tensor([ 0,  1,  2,  3,  4,  5,  6,  7,  8,  9, 10, 11, 12, 13, 14, 15, 16],\n",
       "       dtype=torch.uint8)"
      ]
     },
     "execution_count": 30,
     "metadata": {},
     "output_type": "execute_result"
    }
   ],
   "source": [
    "# classes present in the ground truth\n",
    "salinas_gt_data.unique()"
   ]
  },
  {
   "cell_type": "code",
   "execution_count": 31,
   "id": "182c077b",
   "metadata": {
    "execution": {
     "iopub.execute_input": "2024-03-15T16:18:31.101768Z",
     "iopub.status.busy": "2024-03-15T16:18:31.101437Z",
     "iopub.status.idle": "2024-03-15T16:18:48.207288Z",
     "shell.execute_reply": "2024-03-15T16:18:48.206347Z"
    },
    "papermill": {
     "duration": 17.123314,
     "end_time": "2024-03-15T16:18:48.209602",
     "exception": false,
     "start_time": "2024-03-15T16:18:31.086288",
     "status": "completed"
    },
    "tags": []
   },
   "outputs": [],
   "source": [
    "# import random\n",
    "\n",
    "\n",
    "# def getTrainingData(gt):\n",
    "#     training = []\n",
    "    \n",
    "#     xys= [] \n",
    "    \n",
    "#     while(len(training) < 0.30*len(gt.flatten())):\n",
    "#         irand = int(random.random()*gt.shape[0])\n",
    "#         jrand = int(random.random()*gt.shape[1])\n",
    "        \n",
    "#         if not (irand,jrand) in xys:\n",
    "#             xys.append((irand,jrand))\n",
    "#             training.append((irand,jrand,gt[irand,jrand]))\n",
    "#         else:\n",
    "#             continue\n",
    "    \n",
    "#     return training\n",
    "                \n",
    "            \n",
    "# train =   getTrainingData(salinas_gt_data)"
   ]
  },
  {
   "cell_type": "code",
   "execution_count": 32,
   "id": "04e0a572",
   "metadata": {
    "execution": {
     "iopub.execute_input": "2024-03-15T16:18:48.238502Z",
     "iopub.status.busy": "2024-03-15T16:18:48.237776Z",
     "iopub.status.idle": "2024-03-15T16:19:01.680776Z",
     "shell.execute_reply": "2024-03-15T16:19:01.679828Z"
    },
    "papermill": {
     "duration": 13.459871,
     "end_time": "2024-03-15T16:19:01.683232",
     "exception": false,
     "start_time": "2024-03-15T16:18:48.223361",
     "status": "completed"
    },
    "tags": []
   },
   "outputs": [],
   "source": [
    "import random\n",
    "\n",
    "\n",
    "def getTrainingDataEachClass(gt):\n",
    "    training = []\n",
    "    \n",
    "    \n",
    "    xys= [] \n",
    "    \n",
    "    for cla in gt.unique():                 \n",
    "        ttmp = []\n",
    "        \n",
    "        #dont forget to make the hard coded percentage value a parameter !\n",
    "        while(len(ttmp) < 0.15*len(gt[gt==cla].flatten())):\n",
    "            irand = int(random.random()*gt.shape[0])\n",
    "            jrand = int(random.random()*gt.shape[1])\n",
    "        \n",
    "            if not (irand,jrand) in xys:                \n",
    "                xys.append((irand,jrand))\n",
    "                ttmp.append((irand,jrand,gt[irand,jrand]))\n",
    "            else:\n",
    "                continue\n",
    "        \n",
    "        training += ttmp\n",
    "        \n",
    "    \n",
    "    return training\n",
    "                \n",
    "            \n",
    "train =   getTrainingDataEachClass(salinas_gt_data)"
   ]
  },
  {
   "cell_type": "code",
   "execution_count": 33,
   "id": "1f184d38",
   "metadata": {
    "execution": {
     "iopub.execute_input": "2024-03-15T16:19:01.715099Z",
     "iopub.status.busy": "2024-03-15T16:19:01.714188Z",
     "iopub.status.idle": "2024-03-15T16:19:01.721473Z",
     "shell.execute_reply": "2024-03-15T16:19:01.720452Z"
    },
    "papermill": {
     "duration": 0.025483,
     "end_time": "2024-03-15T16:19:01.723577",
     "exception": false,
     "start_time": "2024-03-15T16:19:01.698094",
     "status": "completed"
    },
    "tags": []
   },
   "outputs": [
    {
     "data": {
      "text/plain": [
       "(16675, 111104)"
      ]
     },
     "execution_count": 33,
     "metadata": {},
     "output_type": "execute_result"
    }
   ],
   "source": [
    "len(train), len(salinas_gt_data.flatten())"
   ]
  },
  {
   "cell_type": "code",
   "execution_count": 34,
   "id": "f86b766e",
   "metadata": {
    "execution": {
     "iopub.execute_input": "2024-03-15T16:19:01.755068Z",
     "iopub.status.busy": "2024-03-15T16:19:01.754767Z",
     "iopub.status.idle": "2024-03-15T16:19:01.951663Z",
     "shell.execute_reply": "2024-03-15T16:19:01.950822Z"
    },
    "papermill": {
     "duration": 0.215179,
     "end_time": "2024-03-15T16:19:01.954084",
     "exception": false,
     "start_time": "2024-03-15T16:19:01.738905",
     "status": "completed"
    },
    "tags": []
   },
   "outputs": [],
   "source": [
    "# 204 is salinas_data.shape[2]; number of bands(channels)\n",
    "model = MSIClassSpecSpat(salinas_data,204).to(device)"
   ]
  },
  {
   "cell_type": "code",
   "execution_count": 35,
   "id": "eea61b49",
   "metadata": {
    "execution": {
     "iopub.execute_input": "2024-03-15T16:19:01.983655Z",
     "iopub.status.busy": "2024-03-15T16:19:01.983376Z",
     "iopub.status.idle": "2024-03-15T16:19:04.523757Z",
     "shell.execute_reply": "2024-03-15T16:19:04.522775Z"
    },
    "papermill": {
     "duration": 2.557808,
     "end_time": "2024-03-15T16:19:04.526390",
     "exception": false,
     "start_time": "2024-03-15T16:19:01.968582",
     "status": "completed"
    },
    "tags": []
   },
   "outputs": [],
   "source": [
    "loss_fn = torch.nn.CrossEntropyLoss()\n",
    "optimizer = torch.optim.Adam(model.parameters(), 0.01)"
   ]
  },
  {
   "cell_type": "markdown",
   "id": "465c6aa4",
   "metadata": {},
   "source": [
    "**Fix The Loss !!!**"
   ]
  },
  {
   "cell_type": "code",
   "execution_count": 36,
   "id": "150bdf68",
   "metadata": {
    "execution": {
     "iopub.execute_input": "2024-03-15T16:19:04.556819Z",
     "iopub.status.busy": "2024-03-15T16:19:04.556345Z",
     "iopub.status.idle": "2024-03-15T19:05:51.206517Z",
     "shell.execute_reply": "2024-03-15T19:05:51.205476Z"
    },
    "papermill": {
     "duration": 10006.667525,
     "end_time": "2024-03-15T19:05:51.208960",
     "exception": false,
     "start_time": "2024-03-15T16:19:04.541435",
     "status": "completed"
    },
    "tags": []
   },
   "outputs": [
    {
     "name": "stderr",
     "output_type": "stream",
     "text": [
      "/tmp/ipykernel_26/333557774.py:26: UserWarning: To copy construct from a tensor, it is recommended to use sourceTensor.clone().detach() or sourceTensor.clone().detach().requires_grad_(True), rather than torch.tensor(sourceTensor).\n",
      "  return torch.tensor(im[:,lineStart:lineEnd+1,columnStart:columnEnd+1], dtype=torch.float)\n",
      "/tmp/ipykernel_26/1178128612.py:19: UserWarning: Implicit dimension choice for softmax has been deprecated. Change the call to include dim=X as an argument.\n",
      "  yprime = torch.argmax(torch.nn.functional.softmax(logits))\n"
     ]
    },
    {
     "name": "stdout",
     "output_type": "stream",
     "text": [
      "epoch:  0 / 200\n",
      " loss : 788060.3125 \n",
      " accuracy : 0.4337031484257871 \n"
     ]
    },
    {
     "name": "stderr",
     "output_type": "stream",
     "text": [
      "/tmp/ipykernel_26/333557774.py:26: UserWarning: To copy construct from a tensor, it is recommended to use sourceTensor.clone().detach() or sourceTensor.clone().detach().requires_grad_(True), rather than torch.tensor(sourceTensor).\n",
      "  return torch.tensor(im[:,lineStart:lineEnd+1,columnStart:columnEnd+1], dtype=torch.float)\n",
      "/tmp/ipykernel_26/1178128612.py:19: UserWarning: Implicit dimension choice for softmax has been deprecated. Change the call to include dim=X as an argument.\n",
      "  yprime = torch.argmax(torch.nn.functional.softmax(logits))\n"
     ]
    },
    {
     "name": "stdout",
     "output_type": "stream",
     "text": [
      "epoch:  3 / 200\n",
      " loss : 14433.5 \n",
      " accuracy : 0.5098650674662669 \n"
     ]
    },
    {
     "name": "stderr",
     "output_type": "stream",
     "text": [
      "/tmp/ipykernel_26/333557774.py:26: UserWarning: To copy construct from a tensor, it is recommended to use sourceTensor.clone().detach() or sourceTensor.clone().detach().requires_grad_(True), rather than torch.tensor(sourceTensor).\n",
      "  return torch.tensor(im[:,lineStart:lineEnd+1,columnStart:columnEnd+1], dtype=torch.float)\n",
      "/tmp/ipykernel_26/1178128612.py:19: UserWarning: Implicit dimension choice for softmax has been deprecated. Change the call to include dim=X as an argument.\n",
      "  yprime = torch.argmax(torch.nn.functional.softmax(logits))\n"
     ]
    },
    {
     "name": "stdout",
     "output_type": "stream",
     "text": [
      "epoch:  6 / 200\n",
      " loss : -0.0 \n",
      " accuracy : 0.5319940029985007 \n"
     ]
    },
    {
     "name": "stderr",
     "output_type": "stream",
     "text": [
      "/tmp/ipykernel_26/333557774.py:26: UserWarning: To copy construct from a tensor, it is recommended to use sourceTensor.clone().detach() or sourceTensor.clone().detach().requires_grad_(True), rather than torch.tensor(sourceTensor).\n",
      "  return torch.tensor(im[:,lineStart:lineEnd+1,columnStart:columnEnd+1], dtype=torch.float)\n",
      "/tmp/ipykernel_26/1178128612.py:19: UserWarning: Implicit dimension choice for softmax has been deprecated. Change the call to include dim=X as an argument.\n",
      "  yprime = torch.argmax(torch.nn.functional.softmax(logits))\n"
     ]
    },
    {
     "name": "stdout",
     "output_type": "stream",
     "text": [
      "epoch:  9 / 200\n",
      " loss : -0.0 \n",
      " accuracy : 0.5806896551724138 \n"
     ]
    },
    {
     "name": "stderr",
     "output_type": "stream",
     "text": [
      "/tmp/ipykernel_26/333557774.py:26: UserWarning: To copy construct from a tensor, it is recommended to use sourceTensor.clone().detach() or sourceTensor.clone().detach().requires_grad_(True), rather than torch.tensor(sourceTensor).\n",
      "  return torch.tensor(im[:,lineStart:lineEnd+1,columnStart:columnEnd+1], dtype=torch.float)\n",
      "/tmp/ipykernel_26/1178128612.py:19: UserWarning: Implicit dimension choice for softmax has been deprecated. Change the call to include dim=X as an argument.\n",
      "  yprime = torch.argmax(torch.nn.functional.softmax(logits))\n"
     ]
    },
    {
     "name": "stdout",
     "output_type": "stream",
     "text": [
      "epoch:  12 / 200\n",
      " loss : -0.0 \n",
      " accuracy : 0.607256371814093 \n"
     ]
    },
    {
     "name": "stderr",
     "output_type": "stream",
     "text": [
      "/tmp/ipykernel_26/333557774.py:26: UserWarning: To copy construct from a tensor, it is recommended to use sourceTensor.clone().detach() or sourceTensor.clone().detach().requires_grad_(True), rather than torch.tensor(sourceTensor).\n",
      "  return torch.tensor(im[:,lineStart:lineEnd+1,columnStart:columnEnd+1], dtype=torch.float)\n",
      "/tmp/ipykernel_26/1178128612.py:19: UserWarning: Implicit dimension choice for softmax has been deprecated. Change the call to include dim=X as an argument.\n",
      "  yprime = torch.argmax(torch.nn.functional.softmax(logits))\n"
     ]
    },
    {
     "name": "stdout",
     "output_type": "stream",
     "text": [
      "epoch:  15 / 200\n",
      " loss : -0.0 \n",
      " accuracy : 0.6278260869565218 \n"
     ]
    },
    {
     "name": "stderr",
     "output_type": "stream",
     "text": [
      "/tmp/ipykernel_26/333557774.py:26: UserWarning: To copy construct from a tensor, it is recommended to use sourceTensor.clone().detach() or sourceTensor.clone().detach().requires_grad_(True), rather than torch.tensor(sourceTensor).\n",
      "  return torch.tensor(im[:,lineStart:lineEnd+1,columnStart:columnEnd+1], dtype=torch.float)\n",
      "/tmp/ipykernel_26/1178128612.py:19: UserWarning: Implicit dimension choice for softmax has been deprecated. Change the call to include dim=X as an argument.\n",
      "  yprime = torch.argmax(torch.nn.functional.softmax(logits))\n"
     ]
    },
    {
     "name": "stdout",
     "output_type": "stream",
     "text": [
      "epoch:  18 / 200\n",
      " loss : 19262112.0 \n",
      " accuracy : 0.655712143928036 \n"
     ]
    },
    {
     "name": "stderr",
     "output_type": "stream",
     "text": [
      "/tmp/ipykernel_26/333557774.py:26: UserWarning: To copy construct from a tensor, it is recommended to use sourceTensor.clone().detach() or sourceTensor.clone().detach().requires_grad_(True), rather than torch.tensor(sourceTensor).\n",
      "  return torch.tensor(im[:,lineStart:lineEnd+1,columnStart:columnEnd+1], dtype=torch.float)\n",
      "/tmp/ipykernel_26/1178128612.py:19: UserWarning: Implicit dimension choice for softmax has been deprecated. Change the call to include dim=X as an argument.\n",
      "  yprime = torch.argmax(torch.nn.functional.softmax(logits))\n"
     ]
    },
    {
     "name": "stdout",
     "output_type": "stream",
     "text": [
      "epoch:  21 / 200\n",
      " loss : -0.0 \n",
      " accuracy : 0.665007496251874 \n"
     ]
    },
    {
     "name": "stderr",
     "output_type": "stream",
     "text": [
      "/tmp/ipykernel_26/333557774.py:26: UserWarning: To copy construct from a tensor, it is recommended to use sourceTensor.clone().detach() or sourceTensor.clone().detach().requires_grad_(True), rather than torch.tensor(sourceTensor).\n",
      "  return torch.tensor(im[:,lineStart:lineEnd+1,columnStart:columnEnd+1], dtype=torch.float)\n",
      "/tmp/ipykernel_26/1178128612.py:19: UserWarning: Implicit dimension choice for softmax has been deprecated. Change the call to include dim=X as an argument.\n",
      "  yprime = torch.argmax(torch.nn.functional.softmax(logits))\n"
     ]
    },
    {
     "name": "stdout",
     "output_type": "stream",
     "text": [
      "epoch:  24 / 200\n",
      " loss : -0.0 \n",
      " accuracy : 0.6758620689655173 \n"
     ]
    },
    {
     "name": "stderr",
     "output_type": "stream",
     "text": [
      "/tmp/ipykernel_26/333557774.py:26: UserWarning: To copy construct from a tensor, it is recommended to use sourceTensor.clone().detach() or sourceTensor.clone().detach().requires_grad_(True), rather than torch.tensor(sourceTensor).\n",
      "  return torch.tensor(im[:,lineStart:lineEnd+1,columnStart:columnEnd+1], dtype=torch.float)\n",
      "/tmp/ipykernel_26/1178128612.py:19: UserWarning: Implicit dimension choice for softmax has been deprecated. Change the call to include dim=X as an argument.\n",
      "  yprime = torch.argmax(torch.nn.functional.softmax(logits))\n"
     ]
    },
    {
     "name": "stdout",
     "output_type": "stream",
     "text": [
      "epoch:  27 / 200\n",
      " loss : -0.0 \n",
      " accuracy : 0.7113643178410795 \n"
     ]
    },
    {
     "name": "stderr",
     "output_type": "stream",
     "text": [
      "/tmp/ipykernel_26/333557774.py:26: UserWarning: To copy construct from a tensor, it is recommended to use sourceTensor.clone().detach() or sourceTensor.clone().detach().requires_grad_(True), rather than torch.tensor(sourceTensor).\n",
      "  return torch.tensor(im[:,lineStart:lineEnd+1,columnStart:columnEnd+1], dtype=torch.float)\n",
      "/tmp/ipykernel_26/1178128612.py:19: UserWarning: Implicit dimension choice for softmax has been deprecated. Change the call to include dim=X as an argument.\n",
      "  yprime = torch.argmax(torch.nn.functional.softmax(logits))\n"
     ]
    },
    {
     "name": "stdout",
     "output_type": "stream",
     "text": [
      "epoch:  30 / 200\n",
      " loss : -0.0 \n",
      " accuracy : 0.7134032983508246 \n"
     ]
    },
    {
     "name": "stderr",
     "output_type": "stream",
     "text": [
      "/tmp/ipykernel_26/333557774.py:26: UserWarning: To copy construct from a tensor, it is recommended to use sourceTensor.clone().detach() or sourceTensor.clone().detach().requires_grad_(True), rather than torch.tensor(sourceTensor).\n",
      "  return torch.tensor(im[:,lineStart:lineEnd+1,columnStart:columnEnd+1], dtype=torch.float)\n",
      "/tmp/ipykernel_26/1178128612.py:19: UserWarning: Implicit dimension choice for softmax has been deprecated. Change the call to include dim=X as an argument.\n",
      "  yprime = torch.argmax(torch.nn.functional.softmax(logits))\n"
     ]
    },
    {
     "name": "stdout",
     "output_type": "stream",
     "text": [
      "epoch:  33 / 200\n",
      " loss : -0.0 \n",
      " accuracy : 0.7216791604197901 \n"
     ]
    },
    {
     "name": "stderr",
     "output_type": "stream",
     "text": [
      "/tmp/ipykernel_26/333557774.py:26: UserWarning: To copy construct from a tensor, it is recommended to use sourceTensor.clone().detach() or sourceTensor.clone().detach().requires_grad_(True), rather than torch.tensor(sourceTensor).\n",
      "  return torch.tensor(im[:,lineStart:lineEnd+1,columnStart:columnEnd+1], dtype=torch.float)\n",
      "/tmp/ipykernel_26/1178128612.py:19: UserWarning: Implicit dimension choice for softmax has been deprecated. Change the call to include dim=X as an argument.\n",
      "  yprime = torch.argmax(torch.nn.functional.softmax(logits))\n"
     ]
    },
    {
     "name": "stdout",
     "output_type": "stream",
     "text": [
      "epoch:  36 / 200\n",
      " loss : -0.0 \n",
      " accuracy : 0.7309745127436282 \n"
     ]
    },
    {
     "name": "stderr",
     "output_type": "stream",
     "text": [
      "/tmp/ipykernel_26/333557774.py:26: UserWarning: To copy construct from a tensor, it is recommended to use sourceTensor.clone().detach() or sourceTensor.clone().detach().requires_grad_(True), rather than torch.tensor(sourceTensor).\n",
      "  return torch.tensor(im[:,lineStart:lineEnd+1,columnStart:columnEnd+1], dtype=torch.float)\n",
      "/tmp/ipykernel_26/1178128612.py:19: UserWarning: Implicit dimension choice for softmax has been deprecated. Change the call to include dim=X as an argument.\n",
      "  yprime = torch.argmax(torch.nn.functional.softmax(logits))\n"
     ]
    },
    {
     "name": "stdout",
     "output_type": "stream",
     "text": [
      "epoch:  39 / 200\n",
      " loss : -0.0 \n",
      " accuracy : 0.7384107946026987 \n"
     ]
    },
    {
     "name": "stderr",
     "output_type": "stream",
     "text": [
      "/tmp/ipykernel_26/333557774.py:26: UserWarning: To copy construct from a tensor, it is recommended to use sourceTensor.clone().detach() or sourceTensor.clone().detach().requires_grad_(True), rather than torch.tensor(sourceTensor).\n",
      "  return torch.tensor(im[:,lineStart:lineEnd+1,columnStart:columnEnd+1], dtype=torch.float)\n",
      "/tmp/ipykernel_26/1178128612.py:19: UserWarning: Implicit dimension choice for softmax has been deprecated. Change the call to include dim=X as an argument.\n",
      "  yprime = torch.argmax(torch.nn.functional.softmax(logits))\n"
     ]
    },
    {
     "name": "stdout",
     "output_type": "stream",
     "text": [
      "epoch:  42 / 200\n",
      " loss : -0.0 \n",
      " accuracy : 0.7498050974512743 \n"
     ]
    },
    {
     "name": "stderr",
     "output_type": "stream",
     "text": [
      "/tmp/ipykernel_26/333557774.py:26: UserWarning: To copy construct from a tensor, it is recommended to use sourceTensor.clone().detach() or sourceTensor.clone().detach().requires_grad_(True), rather than torch.tensor(sourceTensor).\n",
      "  return torch.tensor(im[:,lineStart:lineEnd+1,columnStart:columnEnd+1], dtype=torch.float)\n",
      "/tmp/ipykernel_26/1178128612.py:19: UserWarning: Implicit dimension choice for softmax has been deprecated. Change the call to include dim=X as an argument.\n",
      "  yprime = torch.argmax(torch.nn.functional.softmax(logits))\n"
     ]
    },
    {
     "name": "stdout",
     "output_type": "stream",
     "text": [
      "epoch:  45 / 200\n",
      " loss : -0.0 \n",
      " accuracy : 0.7499250374812594 \n"
     ]
    },
    {
     "name": "stderr",
     "output_type": "stream",
     "text": [
      "/tmp/ipykernel_26/333557774.py:26: UserWarning: To copy construct from a tensor, it is recommended to use sourceTensor.clone().detach() or sourceTensor.clone().detach().requires_grad_(True), rather than torch.tensor(sourceTensor).\n",
      "  return torch.tensor(im[:,lineStart:lineEnd+1,columnStart:columnEnd+1], dtype=torch.float)\n",
      "/tmp/ipykernel_26/1178128612.py:19: UserWarning: Implicit dimension choice for softmax has been deprecated. Change the call to include dim=X as an argument.\n",
      "  yprime = torch.argmax(torch.nn.functional.softmax(logits))\n"
     ]
    },
    {
     "name": "stdout",
     "output_type": "stream",
     "text": [
      "epoch:  48 / 200\n",
      " loss : -0.0 \n",
      " accuracy : 0.7580209895052473 \n"
     ]
    },
    {
     "name": "stderr",
     "output_type": "stream",
     "text": [
      "/tmp/ipykernel_26/333557774.py:26: UserWarning: To copy construct from a tensor, it is recommended to use sourceTensor.clone().detach() or sourceTensor.clone().detach().requires_grad_(True), rather than torch.tensor(sourceTensor).\n",
      "  return torch.tensor(im[:,lineStart:lineEnd+1,columnStart:columnEnd+1], dtype=torch.float)\n",
      "/tmp/ipykernel_26/1178128612.py:19: UserWarning: Implicit dimension choice for softmax has been deprecated. Change the call to include dim=X as an argument.\n",
      "  yprime = torch.argmax(torch.nn.functional.softmax(logits))\n"
     ]
    },
    {
     "name": "stdout",
     "output_type": "stream",
     "text": [
      "epoch:  51 / 200\n",
      " loss : -0.0 \n",
      " accuracy : 0.7689355322338831 \n"
     ]
    },
    {
     "name": "stderr",
     "output_type": "stream",
     "text": [
      "/tmp/ipykernel_26/333557774.py:26: UserWarning: To copy construct from a tensor, it is recommended to use sourceTensor.clone().detach() or sourceTensor.clone().detach().requires_grad_(True), rather than torch.tensor(sourceTensor).\n",
      "  return torch.tensor(im[:,lineStart:lineEnd+1,columnStart:columnEnd+1], dtype=torch.float)\n",
      "/tmp/ipykernel_26/1178128612.py:19: UserWarning: Implicit dimension choice for softmax has been deprecated. Change the call to include dim=X as an argument.\n",
      "  yprime = torch.argmax(torch.nn.functional.softmax(logits))\n"
     ]
    },
    {
     "name": "stdout",
     "output_type": "stream",
     "text": [
      "epoch:  54 / 200\n",
      " loss : 23504256.0 \n",
      " accuracy : 0.7713943028485757 \n"
     ]
    },
    {
     "name": "stderr",
     "output_type": "stream",
     "text": [
      "/tmp/ipykernel_26/333557774.py:26: UserWarning: To copy construct from a tensor, it is recommended to use sourceTensor.clone().detach() or sourceTensor.clone().detach().requires_grad_(True), rather than torch.tensor(sourceTensor).\n",
      "  return torch.tensor(im[:,lineStart:lineEnd+1,columnStart:columnEnd+1], dtype=torch.float)\n",
      "/tmp/ipykernel_26/1178128612.py:19: UserWarning: Implicit dimension choice for softmax has been deprecated. Change the call to include dim=X as an argument.\n",
      "  yprime = torch.argmax(torch.nn.functional.softmax(logits))\n"
     ]
    },
    {
     "name": "stdout",
     "output_type": "stream",
     "text": [
      "epoch:  57 / 200\n",
      " loss : -0.0 \n",
      " accuracy : 0.7707346326836582 \n"
     ]
    },
    {
     "name": "stderr",
     "output_type": "stream",
     "text": [
      "/tmp/ipykernel_26/333557774.py:26: UserWarning: To copy construct from a tensor, it is recommended to use sourceTensor.clone().detach() or sourceTensor.clone().detach().requires_grad_(True), rather than torch.tensor(sourceTensor).\n",
      "  return torch.tensor(im[:,lineStart:lineEnd+1,columnStart:columnEnd+1], dtype=torch.float)\n",
      "/tmp/ipykernel_26/1178128612.py:19: UserWarning: Implicit dimension choice for softmax has been deprecated. Change the call to include dim=X as an argument.\n",
      "  yprime = torch.argmax(torch.nn.functional.softmax(logits))\n"
     ]
    },
    {
     "name": "stdout",
     "output_type": "stream",
     "text": [
      "epoch:  60 / 200\n",
      " loss : -0.0 \n",
      " accuracy : 0.7801499250374813 \n"
     ]
    },
    {
     "name": "stderr",
     "output_type": "stream",
     "text": [
      "/tmp/ipykernel_26/333557774.py:26: UserWarning: To copy construct from a tensor, it is recommended to use sourceTensor.clone().detach() or sourceTensor.clone().detach().requires_grad_(True), rather than torch.tensor(sourceTensor).\n",
      "  return torch.tensor(im[:,lineStart:lineEnd+1,columnStart:columnEnd+1], dtype=torch.float)\n",
      "/tmp/ipykernel_26/1178128612.py:19: UserWarning: Implicit dimension choice for softmax has been deprecated. Change the call to include dim=X as an argument.\n",
      "  yprime = torch.argmax(torch.nn.functional.softmax(logits))\n"
     ]
    },
    {
     "name": "stdout",
     "output_type": "stream",
     "text": [
      "epoch:  63 / 200\n",
      " loss : -0.0 \n",
      " accuracy : 0.7845877061469265 \n"
     ]
    },
    {
     "name": "stderr",
     "output_type": "stream",
     "text": [
      "/tmp/ipykernel_26/333557774.py:26: UserWarning: To copy construct from a tensor, it is recommended to use sourceTensor.clone().detach() or sourceTensor.clone().detach().requires_grad_(True), rather than torch.tensor(sourceTensor).\n",
      "  return torch.tensor(im[:,lineStart:lineEnd+1,columnStart:columnEnd+1], dtype=torch.float)\n",
      "/tmp/ipykernel_26/1178128612.py:19: UserWarning: Implicit dimension choice for softmax has been deprecated. Change the call to include dim=X as an argument.\n",
      "  yprime = torch.argmax(torch.nn.functional.softmax(logits))\n"
     ]
    },
    {
     "name": "stdout",
     "output_type": "stream",
     "text": [
      "epoch:  66 / 200\n",
      " loss : -0.0 \n",
      " accuracy : 0.7910044977511245 \n"
     ]
    },
    {
     "name": "stderr",
     "output_type": "stream",
     "text": [
      "/tmp/ipykernel_26/333557774.py:26: UserWarning: To copy construct from a tensor, it is recommended to use sourceTensor.clone().detach() or sourceTensor.clone().detach().requires_grad_(True), rather than torch.tensor(sourceTensor).\n",
      "  return torch.tensor(im[:,lineStart:lineEnd+1,columnStart:columnEnd+1], dtype=torch.float)\n",
      "/tmp/ipykernel_26/1178128612.py:19: UserWarning: Implicit dimension choice for softmax has been deprecated. Change the call to include dim=X as an argument.\n",
      "  yprime = torch.argmax(torch.nn.functional.softmax(logits))\n"
     ]
    },
    {
     "name": "stdout",
     "output_type": "stream",
     "text": [
      "epoch:  69 / 200\n",
      " loss : -0.0 \n",
      " accuracy : 0.7902248875562219 \n"
     ]
    },
    {
     "name": "stderr",
     "output_type": "stream",
     "text": [
      "/tmp/ipykernel_26/333557774.py:26: UserWarning: To copy construct from a tensor, it is recommended to use sourceTensor.clone().detach() or sourceTensor.clone().detach().requires_grad_(True), rather than torch.tensor(sourceTensor).\n",
      "  return torch.tensor(im[:,lineStart:lineEnd+1,columnStart:columnEnd+1], dtype=torch.float)\n",
      "/tmp/ipykernel_26/1178128612.py:19: UserWarning: Implicit dimension choice for softmax has been deprecated. Change the call to include dim=X as an argument.\n",
      "  yprime = torch.argmax(torch.nn.functional.softmax(logits))\n"
     ]
    },
    {
     "name": "stdout",
     "output_type": "stream",
     "text": [
      "epoch:  72 / 200\n",
      " loss : -0.0 \n",
      " accuracy : 0.7940629685157421 \n"
     ]
    },
    {
     "name": "stderr",
     "output_type": "stream",
     "text": [
      "/tmp/ipykernel_26/333557774.py:26: UserWarning: To copy construct from a tensor, it is recommended to use sourceTensor.clone().detach() or sourceTensor.clone().detach().requires_grad_(True), rather than torch.tensor(sourceTensor).\n",
      "  return torch.tensor(im[:,lineStart:lineEnd+1,columnStart:columnEnd+1], dtype=torch.float)\n",
      "/tmp/ipykernel_26/1178128612.py:19: UserWarning: Implicit dimension choice for softmax has been deprecated. Change the call to include dim=X as an argument.\n",
      "  yprime = torch.argmax(torch.nn.functional.softmax(logits))\n"
     ]
    },
    {
     "name": "stdout",
     "output_type": "stream",
     "text": [
      "epoch:  75 / 200\n",
      " loss : -0.0 \n",
      " accuracy : 0.8007796101949025 \n"
     ]
    },
    {
     "name": "stderr",
     "output_type": "stream",
     "text": [
      "/tmp/ipykernel_26/333557774.py:26: UserWarning: To copy construct from a tensor, it is recommended to use sourceTensor.clone().detach() or sourceTensor.clone().detach().requires_grad_(True), rather than torch.tensor(sourceTensor).\n",
      "  return torch.tensor(im[:,lineStart:lineEnd+1,columnStart:columnEnd+1], dtype=torch.float)\n",
      "/tmp/ipykernel_26/1178128612.py:19: UserWarning: Implicit dimension choice for softmax has been deprecated. Change the call to include dim=X as an argument.\n",
      "  yprime = torch.argmax(torch.nn.functional.softmax(logits))\n"
     ]
    },
    {
     "name": "stdout",
     "output_type": "stream",
     "text": [
      "epoch:  78 / 200\n",
      " loss : 158352640.0 \n",
      " accuracy : 0.8031184407796101 \n"
     ]
    },
    {
     "name": "stderr",
     "output_type": "stream",
     "text": [
      "/tmp/ipykernel_26/333557774.py:26: UserWarning: To copy construct from a tensor, it is recommended to use sourceTensor.clone().detach() or sourceTensor.clone().detach().requires_grad_(True), rather than torch.tensor(sourceTensor).\n",
      "  return torch.tensor(im[:,lineStart:lineEnd+1,columnStart:columnEnd+1], dtype=torch.float)\n",
      "/tmp/ipykernel_26/1178128612.py:19: UserWarning: Implicit dimension choice for softmax has been deprecated. Change the call to include dim=X as an argument.\n",
      "  yprime = torch.argmax(torch.nn.functional.softmax(logits))\n"
     ]
    },
    {
     "name": "stdout",
     "output_type": "stream",
     "text": [
      "epoch:  81 / 200\n",
      " loss : 167084544.0 \n",
      " accuracy : 0.8046776611694153 \n"
     ]
    },
    {
     "name": "stderr",
     "output_type": "stream",
     "text": [
      "/tmp/ipykernel_26/333557774.py:26: UserWarning: To copy construct from a tensor, it is recommended to use sourceTensor.clone().detach() or sourceTensor.clone().detach().requires_grad_(True), rather than torch.tensor(sourceTensor).\n",
      "  return torch.tensor(im[:,lineStart:lineEnd+1,columnStart:columnEnd+1], dtype=torch.float)\n",
      "/tmp/ipykernel_26/1178128612.py:19: UserWarning: Implicit dimension choice for softmax has been deprecated. Change the call to include dim=X as an argument.\n",
      "  yprime = torch.argmax(torch.nn.functional.softmax(logits))\n"
     ]
    },
    {
     "name": "stdout",
     "output_type": "stream",
     "text": [
      "epoch:  84 / 200\n",
      " loss : -0.0 \n",
      " accuracy : 0.8044977511244378 \n"
     ]
    },
    {
     "name": "stderr",
     "output_type": "stream",
     "text": [
      "/tmp/ipykernel_26/333557774.py:26: UserWarning: To copy construct from a tensor, it is recommended to use sourceTensor.clone().detach() or sourceTensor.clone().detach().requires_grad_(True), rather than torch.tensor(sourceTensor).\n",
      "  return torch.tensor(im[:,lineStart:lineEnd+1,columnStart:columnEnd+1], dtype=torch.float)\n",
      "/tmp/ipykernel_26/1178128612.py:19: UserWarning: Implicit dimension choice for softmax has been deprecated. Change the call to include dim=X as an argument.\n",
      "  yprime = torch.argmax(torch.nn.functional.softmax(logits))\n"
     ]
    },
    {
     "name": "stdout",
     "output_type": "stream",
     "text": [
      "epoch:  87 / 200\n",
      " loss : -0.0 \n",
      " accuracy : 0.8124137931034483 \n"
     ]
    },
    {
     "name": "stderr",
     "output_type": "stream",
     "text": [
      "/tmp/ipykernel_26/333557774.py:26: UserWarning: To copy construct from a tensor, it is recommended to use sourceTensor.clone().detach() or sourceTensor.clone().detach().requires_grad_(True), rather than torch.tensor(sourceTensor).\n",
      "  return torch.tensor(im[:,lineStart:lineEnd+1,columnStart:columnEnd+1], dtype=torch.float)\n",
      "/tmp/ipykernel_26/1178128612.py:19: UserWarning: Implicit dimension choice for softmax has been deprecated. Change the call to include dim=X as an argument.\n",
      "  yprime = torch.argmax(torch.nn.functional.softmax(logits))\n"
     ]
    },
    {
     "name": "stdout",
     "output_type": "stream",
     "text": [
      "epoch:  90 / 200\n",
      " loss : 200896256.0 \n",
      " accuracy : 0.8116341829085457 \n"
     ]
    },
    {
     "name": "stderr",
     "output_type": "stream",
     "text": [
      "/tmp/ipykernel_26/333557774.py:26: UserWarning: To copy construct from a tensor, it is recommended to use sourceTensor.clone().detach() or sourceTensor.clone().detach().requires_grad_(True), rather than torch.tensor(sourceTensor).\n",
      "  return torch.tensor(im[:,lineStart:lineEnd+1,columnStart:columnEnd+1], dtype=torch.float)\n",
      "/tmp/ipykernel_26/1178128612.py:19: UserWarning: Implicit dimension choice for softmax has been deprecated. Change the call to include dim=X as an argument.\n",
      "  yprime = torch.argmax(torch.nn.functional.softmax(logits))\n"
     ]
    },
    {
     "name": "stdout",
     "output_type": "stream",
     "text": [
      "epoch:  93 / 200\n",
      " loss : 29768192.0 \n",
      " accuracy : 0.8155322338830585 \n"
     ]
    },
    {
     "name": "stderr",
     "output_type": "stream",
     "text": [
      "/tmp/ipykernel_26/333557774.py:26: UserWarning: To copy construct from a tensor, it is recommended to use sourceTensor.clone().detach() or sourceTensor.clone().detach().requires_grad_(True), rather than torch.tensor(sourceTensor).\n",
      "  return torch.tensor(im[:,lineStart:lineEnd+1,columnStart:columnEnd+1], dtype=torch.float)\n",
      "/tmp/ipykernel_26/1178128612.py:19: UserWarning: Implicit dimension choice for softmax has been deprecated. Change the call to include dim=X as an argument.\n",
      "  yprime = torch.argmax(torch.nn.functional.softmax(logits))\n"
     ]
    },
    {
     "name": "stdout",
     "output_type": "stream",
     "text": [
      "epoch:  96 / 200\n",
      " loss : -0.0 \n",
      " accuracy : 0.8179910044977511 \n"
     ]
    },
    {
     "name": "stderr",
     "output_type": "stream",
     "text": [
      "/tmp/ipykernel_26/333557774.py:26: UserWarning: To copy construct from a tensor, it is recommended to use sourceTensor.clone().detach() or sourceTensor.clone().detach().requires_grad_(True), rather than torch.tensor(sourceTensor).\n",
      "  return torch.tensor(im[:,lineStart:lineEnd+1,columnStart:columnEnd+1], dtype=torch.float)\n",
      "/tmp/ipykernel_26/1178128612.py:19: UserWarning: Implicit dimension choice for softmax has been deprecated. Change the call to include dim=X as an argument.\n",
      "  yprime = torch.argmax(torch.nn.functional.softmax(logits))\n"
     ]
    },
    {
     "name": "stdout",
     "output_type": "stream",
     "text": [
      "epoch:  99 / 200\n",
      " loss : -0.0 \n",
      " accuracy : 0.8235082458770615 \n"
     ]
    },
    {
     "name": "stderr",
     "output_type": "stream",
     "text": [
      "/tmp/ipykernel_26/333557774.py:26: UserWarning: To copy construct from a tensor, it is recommended to use sourceTensor.clone().detach() or sourceTensor.clone().detach().requires_grad_(True), rather than torch.tensor(sourceTensor).\n",
      "  return torch.tensor(im[:,lineStart:lineEnd+1,columnStart:columnEnd+1], dtype=torch.float)\n",
      "/tmp/ipykernel_26/1178128612.py:19: UserWarning: Implicit dimension choice for softmax has been deprecated. Change the call to include dim=X as an argument.\n",
      "  yprime = torch.argmax(torch.nn.functional.softmax(logits))\n"
     ]
    },
    {
     "name": "stdout",
     "output_type": "stream",
     "text": [
      "epoch:  102 / 200\n",
      " loss : -0.0 \n",
      " accuracy : 0.8260269865067467 \n"
     ]
    },
    {
     "name": "stderr",
     "output_type": "stream",
     "text": [
      "/tmp/ipykernel_26/333557774.py:26: UserWarning: To copy construct from a tensor, it is recommended to use sourceTensor.clone().detach() or sourceTensor.clone().detach().requires_grad_(True), rather than torch.tensor(sourceTensor).\n",
      "  return torch.tensor(im[:,lineStart:lineEnd+1,columnStart:columnEnd+1], dtype=torch.float)\n",
      "/tmp/ipykernel_26/1178128612.py:19: UserWarning: Implicit dimension choice for softmax has been deprecated. Change the call to include dim=X as an argument.\n",
      "  yprime = torch.argmax(torch.nn.functional.softmax(logits))\n"
     ]
    },
    {
     "name": "stdout",
     "output_type": "stream",
     "text": [
      "epoch:  105 / 200\n",
      " loss : -0.0 \n",
      " accuracy : 0.8262668665667167 \n"
     ]
    },
    {
     "name": "stderr",
     "output_type": "stream",
     "text": [
      "/tmp/ipykernel_26/333557774.py:26: UserWarning: To copy construct from a tensor, it is recommended to use sourceTensor.clone().detach() or sourceTensor.clone().detach().requires_grad_(True), rather than torch.tensor(sourceTensor).\n",
      "  return torch.tensor(im[:,lineStart:lineEnd+1,columnStart:columnEnd+1], dtype=torch.float)\n",
      "/tmp/ipykernel_26/1178128612.py:19: UserWarning: Implicit dimension choice for softmax has been deprecated. Change the call to include dim=X as an argument.\n",
      "  yprime = torch.argmax(torch.nn.functional.softmax(logits))\n"
     ]
    },
    {
     "name": "stdout",
     "output_type": "stream",
     "text": [
      "epoch:  108 / 200\n",
      " loss : -0.0 \n",
      " accuracy : 0.8278860569715143 \n"
     ]
    },
    {
     "name": "stderr",
     "output_type": "stream",
     "text": [
      "/tmp/ipykernel_26/333557774.py:26: UserWarning: To copy construct from a tensor, it is recommended to use sourceTensor.clone().detach() or sourceTensor.clone().detach().requires_grad_(True), rather than torch.tensor(sourceTensor).\n",
      "  return torch.tensor(im[:,lineStart:lineEnd+1,columnStart:columnEnd+1], dtype=torch.float)\n",
      "/tmp/ipykernel_26/1178128612.py:19: UserWarning: Implicit dimension choice for softmax has been deprecated. Change the call to include dim=X as an argument.\n",
      "  yprime = torch.argmax(torch.nn.functional.softmax(logits))\n"
     ]
    },
    {
     "name": "stdout",
     "output_type": "stream",
     "text": [
      "epoch:  111 / 200\n",
      " loss : -0.0 \n",
      " accuracy : 0.8306446776611695 \n"
     ]
    },
    {
     "name": "stderr",
     "output_type": "stream",
     "text": [
      "/tmp/ipykernel_26/333557774.py:26: UserWarning: To copy construct from a tensor, it is recommended to use sourceTensor.clone().detach() or sourceTensor.clone().detach().requires_grad_(True), rather than torch.tensor(sourceTensor).\n",
      "  return torch.tensor(im[:,lineStart:lineEnd+1,columnStart:columnEnd+1], dtype=torch.float)\n",
      "/tmp/ipykernel_26/1178128612.py:19: UserWarning: Implicit dimension choice for softmax has been deprecated. Change the call to include dim=X as an argument.\n",
      "  yprime = torch.argmax(torch.nn.functional.softmax(logits))\n"
     ]
    },
    {
     "name": "stdout",
     "output_type": "stream",
     "text": [
      "epoch:  114 / 200\n",
      " loss : -0.0 \n",
      " accuracy : 0.8328035982008996 \n"
     ]
    },
    {
     "name": "stderr",
     "output_type": "stream",
     "text": [
      "/tmp/ipykernel_26/333557774.py:26: UserWarning: To copy construct from a tensor, it is recommended to use sourceTensor.clone().detach() or sourceTensor.clone().detach().requires_grad_(True), rather than torch.tensor(sourceTensor).\n",
      "  return torch.tensor(im[:,lineStart:lineEnd+1,columnStart:columnEnd+1], dtype=torch.float)\n",
      "/tmp/ipykernel_26/1178128612.py:19: UserWarning: Implicit dimension choice for softmax has been deprecated. Change the call to include dim=X as an argument.\n",
      "  yprime = torch.argmax(torch.nn.functional.softmax(logits))\n"
     ]
    },
    {
     "name": "stdout",
     "output_type": "stream",
     "text": [
      "epoch:  117 / 200\n",
      " loss : 238856192.0 \n",
      " accuracy : 0.8341829085457272 \n"
     ]
    },
    {
     "name": "stderr",
     "output_type": "stream",
     "text": [
      "/tmp/ipykernel_26/333557774.py:26: UserWarning: To copy construct from a tensor, it is recommended to use sourceTensor.clone().detach() or sourceTensor.clone().detach().requires_grad_(True), rather than torch.tensor(sourceTensor).\n",
      "  return torch.tensor(im[:,lineStart:lineEnd+1,columnStart:columnEnd+1], dtype=torch.float)\n",
      "/tmp/ipykernel_26/1178128612.py:19: UserWarning: Implicit dimension choice for softmax has been deprecated. Change the call to include dim=X as an argument.\n",
      "  yprime = torch.argmax(torch.nn.functional.softmax(logits))\n"
     ]
    },
    {
     "name": "stdout",
     "output_type": "stream",
     "text": [
      "epoch:  120 / 200\n",
      " loss : -0.0 \n",
      " accuracy : 0.8368215892053973 \n"
     ]
    },
    {
     "name": "stderr",
     "output_type": "stream",
     "text": [
      "/tmp/ipykernel_26/333557774.py:26: UserWarning: To copy construct from a tensor, it is recommended to use sourceTensor.clone().detach() or sourceTensor.clone().detach().requires_grad_(True), rather than torch.tensor(sourceTensor).\n",
      "  return torch.tensor(im[:,lineStart:lineEnd+1,columnStart:columnEnd+1], dtype=torch.float)\n",
      "/tmp/ipykernel_26/1178128612.py:19: UserWarning: Implicit dimension choice for softmax has been deprecated. Change the call to include dim=X as an argument.\n",
      "  yprime = torch.argmax(torch.nn.functional.softmax(logits))\n"
     ]
    },
    {
     "name": "stdout",
     "output_type": "stream",
     "text": [
      "epoch:  123 / 200\n",
      " loss : -0.0 \n",
      " accuracy : 0.839640179910045 \n"
     ]
    },
    {
     "name": "stderr",
     "output_type": "stream",
     "text": [
      "/tmp/ipykernel_26/333557774.py:26: UserWarning: To copy construct from a tensor, it is recommended to use sourceTensor.clone().detach() or sourceTensor.clone().detach().requires_grad_(True), rather than torch.tensor(sourceTensor).\n",
      "  return torch.tensor(im[:,lineStart:lineEnd+1,columnStart:columnEnd+1], dtype=torch.float)\n",
      "/tmp/ipykernel_26/1178128612.py:19: UserWarning: Implicit dimension choice for softmax has been deprecated. Change the call to include dim=X as an argument.\n",
      "  yprime = torch.argmax(torch.nn.functional.softmax(logits))\n"
     ]
    },
    {
     "name": "stdout",
     "output_type": "stream",
     "text": [
      "epoch:  126 / 200\n",
      " loss : -0.0 \n",
      " accuracy : 0.840599700149925 \n"
     ]
    },
    {
     "name": "stderr",
     "output_type": "stream",
     "text": [
      "/tmp/ipykernel_26/333557774.py:26: UserWarning: To copy construct from a tensor, it is recommended to use sourceTensor.clone().detach() or sourceTensor.clone().detach().requires_grad_(True), rather than torch.tensor(sourceTensor).\n",
      "  return torch.tensor(im[:,lineStart:lineEnd+1,columnStart:columnEnd+1], dtype=torch.float)\n",
      "/tmp/ipykernel_26/1178128612.py:19: UserWarning: Implicit dimension choice for softmax has been deprecated. Change the call to include dim=X as an argument.\n",
      "  yprime = torch.argmax(torch.nn.functional.softmax(logits))\n"
     ]
    },
    {
     "name": "stdout",
     "output_type": "stream",
     "text": [
      "epoch:  129 / 200\n",
      " loss : -0.0 \n",
      " accuracy : 0.8379010494752623 \n"
     ]
    },
    {
     "name": "stderr",
     "output_type": "stream",
     "text": [
      "/tmp/ipykernel_26/333557774.py:26: UserWarning: To copy construct from a tensor, it is recommended to use sourceTensor.clone().detach() or sourceTensor.clone().detach().requires_grad_(True), rather than torch.tensor(sourceTensor).\n",
      "  return torch.tensor(im[:,lineStart:lineEnd+1,columnStart:columnEnd+1], dtype=torch.float)\n",
      "/tmp/ipykernel_26/1178128612.py:19: UserWarning: Implicit dimension choice for softmax has been deprecated. Change the call to include dim=X as an argument.\n",
      "  yprime = torch.argmax(torch.nn.functional.softmax(logits))\n"
     ]
    },
    {
     "name": "stdout",
     "output_type": "stream",
     "text": [
      "epoch:  132 / 200\n",
      " loss : 41416192.0 \n",
      " accuracy : 0.8432983508245877 \n"
     ]
    },
    {
     "name": "stderr",
     "output_type": "stream",
     "text": [
      "/tmp/ipykernel_26/333557774.py:26: UserWarning: To copy construct from a tensor, it is recommended to use sourceTensor.clone().detach() or sourceTensor.clone().detach().requires_grad_(True), rather than torch.tensor(sourceTensor).\n",
      "  return torch.tensor(im[:,lineStart:lineEnd+1,columnStart:columnEnd+1], dtype=torch.float)\n",
      "/tmp/ipykernel_26/1178128612.py:19: UserWarning: Implicit dimension choice for softmax has been deprecated. Change the call to include dim=X as an argument.\n",
      "  yprime = torch.argmax(torch.nn.functional.softmax(logits))\n"
     ]
    },
    {
     "name": "stdout",
     "output_type": "stream",
     "text": [
      "epoch:  135 / 200\n",
      " loss : 288735232.0 \n",
      " accuracy : 0.8460569715142429 \n"
     ]
    },
    {
     "name": "stderr",
     "output_type": "stream",
     "text": [
      "/tmp/ipykernel_26/333557774.py:26: UserWarning: To copy construct from a tensor, it is recommended to use sourceTensor.clone().detach() or sourceTensor.clone().detach().requires_grad_(True), rather than torch.tensor(sourceTensor).\n",
      "  return torch.tensor(im[:,lineStart:lineEnd+1,columnStart:columnEnd+1], dtype=torch.float)\n",
      "/tmp/ipykernel_26/1178128612.py:19: UserWarning: Implicit dimension choice for softmax has been deprecated. Change the call to include dim=X as an argument.\n",
      "  yprime = torch.argmax(torch.nn.functional.softmax(logits))\n"
     ]
    },
    {
     "name": "stdout",
     "output_type": "stream",
     "text": [
      "epoch:  138 / 200\n",
      " loss : 164571136.0 \n",
      " accuracy : 0.8483958020989505 \n"
     ]
    },
    {
     "name": "stderr",
     "output_type": "stream",
     "text": [
      "/tmp/ipykernel_26/333557774.py:26: UserWarning: To copy construct from a tensor, it is recommended to use sourceTensor.clone().detach() or sourceTensor.clone().detach().requires_grad_(True), rather than torch.tensor(sourceTensor).\n",
      "  return torch.tensor(im[:,lineStart:lineEnd+1,columnStart:columnEnd+1], dtype=torch.float)\n",
      "/tmp/ipykernel_26/1178128612.py:19: UserWarning: Implicit dimension choice for softmax has been deprecated. Change the call to include dim=X as an argument.\n",
      "  yprime = torch.argmax(torch.nn.functional.softmax(logits))\n"
     ]
    },
    {
     "name": "stdout",
     "output_type": "stream",
     "text": [
      "epoch:  141 / 200\n",
      " loss : -0.0 \n",
      " accuracy : 0.8494752623688155 \n"
     ]
    },
    {
     "name": "stderr",
     "output_type": "stream",
     "text": [
      "/tmp/ipykernel_26/333557774.py:26: UserWarning: To copy construct from a tensor, it is recommended to use sourceTensor.clone().detach() or sourceTensor.clone().detach().requires_grad_(True), rather than torch.tensor(sourceTensor).\n",
      "  return torch.tensor(im[:,lineStart:lineEnd+1,columnStart:columnEnd+1], dtype=torch.float)\n",
      "/tmp/ipykernel_26/1178128612.py:19: UserWarning: Implicit dimension choice for softmax has been deprecated. Change the call to include dim=X as an argument.\n",
      "  yprime = torch.argmax(torch.nn.functional.softmax(logits))\n"
     ]
    },
    {
     "name": "stdout",
     "output_type": "stream",
     "text": [
      "epoch:  144 / 200\n",
      " loss : 195728896.0 \n",
      " accuracy : 0.8513343328335832 \n"
     ]
    },
    {
     "name": "stderr",
     "output_type": "stream",
     "text": [
      "/tmp/ipykernel_26/333557774.py:26: UserWarning: To copy construct from a tensor, it is recommended to use sourceTensor.clone().detach() or sourceTensor.clone().detach().requires_grad_(True), rather than torch.tensor(sourceTensor).\n",
      "  return torch.tensor(im[:,lineStart:lineEnd+1,columnStart:columnEnd+1], dtype=torch.float)\n",
      "/tmp/ipykernel_26/1178128612.py:19: UserWarning: Implicit dimension choice for softmax has been deprecated. Change the call to include dim=X as an argument.\n",
      "  yprime = torch.argmax(torch.nn.functional.softmax(logits))\n"
     ]
    },
    {
     "name": "stdout",
     "output_type": "stream",
     "text": [
      "epoch:  147 / 200\n",
      " loss : -0.0 \n",
      " accuracy : 0.8485157421289355 \n"
     ]
    },
    {
     "name": "stderr",
     "output_type": "stream",
     "text": [
      "/tmp/ipykernel_26/333557774.py:26: UserWarning: To copy construct from a tensor, it is recommended to use sourceTensor.clone().detach() or sourceTensor.clone().detach().requires_grad_(True), rather than torch.tensor(sourceTensor).\n",
      "  return torch.tensor(im[:,lineStart:lineEnd+1,columnStart:columnEnd+1], dtype=torch.float)\n",
      "/tmp/ipykernel_26/1178128612.py:19: UserWarning: Implicit dimension choice for softmax has been deprecated. Change the call to include dim=X as an argument.\n",
      "  yprime = torch.argmax(torch.nn.functional.softmax(logits))\n"
     ]
    },
    {
     "name": "stdout",
     "output_type": "stream",
     "text": [
      "epoch:  150 / 200\n",
      " loss : 450343936.0 \n",
      " accuracy : 0.8524737631184408 \n"
     ]
    },
    {
     "name": "stderr",
     "output_type": "stream",
     "text": [
      "/tmp/ipykernel_26/333557774.py:26: UserWarning: To copy construct from a tensor, it is recommended to use sourceTensor.clone().detach() or sourceTensor.clone().detach().requires_grad_(True), rather than torch.tensor(sourceTensor).\n",
      "  return torch.tensor(im[:,lineStart:lineEnd+1,columnStart:columnEnd+1], dtype=torch.float)\n",
      "/tmp/ipykernel_26/1178128612.py:19: UserWarning: Implicit dimension choice for softmax has been deprecated. Change the call to include dim=X as an argument.\n",
      "  yprime = torch.argmax(torch.nn.functional.softmax(logits))\n"
     ]
    },
    {
     "name": "stdout",
     "output_type": "stream",
     "text": [
      "epoch:  153 / 200\n",
      " loss : -0.0 \n",
      " accuracy : 0.856071964017991 \n"
     ]
    },
    {
     "name": "stderr",
     "output_type": "stream",
     "text": [
      "/tmp/ipykernel_26/333557774.py:26: UserWarning: To copy construct from a tensor, it is recommended to use sourceTensor.clone().detach() or sourceTensor.clone().detach().requires_grad_(True), rather than torch.tensor(sourceTensor).\n",
      "  return torch.tensor(im[:,lineStart:lineEnd+1,columnStart:columnEnd+1], dtype=torch.float)\n",
      "/tmp/ipykernel_26/1178128612.py:19: UserWarning: Implicit dimension choice for softmax has been deprecated. Change the call to include dim=X as an argument.\n",
      "  yprime = torch.argmax(torch.nn.functional.softmax(logits))\n"
     ]
    },
    {
     "name": "stdout",
     "output_type": "stream",
     "text": [
      "epoch:  156 / 200\n",
      " loss : 53773312.0 \n",
      " accuracy : 0.8589505247376312 \n"
     ]
    },
    {
     "name": "stderr",
     "output_type": "stream",
     "text": [
      "/tmp/ipykernel_26/333557774.py:26: UserWarning: To copy construct from a tensor, it is recommended to use sourceTensor.clone().detach() or sourceTensor.clone().detach().requires_grad_(True), rather than torch.tensor(sourceTensor).\n",
      "  return torch.tensor(im[:,lineStart:lineEnd+1,columnStart:columnEnd+1], dtype=torch.float)\n",
      "/tmp/ipykernel_26/1178128612.py:19: UserWarning: Implicit dimension choice for softmax has been deprecated. Change the call to include dim=X as an argument.\n",
      "  yprime = torch.argmax(torch.nn.functional.softmax(logits))\n"
     ]
    },
    {
     "name": "stdout",
     "output_type": "stream",
     "text": [
      "epoch:  159 / 200\n",
      " loss : 281715712.0 \n",
      " accuracy : 0.8576911544227886 \n"
     ]
    },
    {
     "name": "stderr",
     "output_type": "stream",
     "text": [
      "/tmp/ipykernel_26/333557774.py:26: UserWarning: To copy construct from a tensor, it is recommended to use sourceTensor.clone().detach() or sourceTensor.clone().detach().requires_grad_(True), rather than torch.tensor(sourceTensor).\n",
      "  return torch.tensor(im[:,lineStart:lineEnd+1,columnStart:columnEnd+1], dtype=torch.float)\n",
      "/tmp/ipykernel_26/1178128612.py:19: UserWarning: Implicit dimension choice for softmax has been deprecated. Change the call to include dim=X as an argument.\n",
      "  yprime = torch.argmax(torch.nn.functional.softmax(logits))\n"
     ]
    },
    {
     "name": "stdout",
     "output_type": "stream",
     "text": [
      "epoch:  162 / 200\n",
      " loss : 783698944.0 \n",
      " accuracy : 0.8620689655172413 \n"
     ]
    },
    {
     "name": "stderr",
     "output_type": "stream",
     "text": [
      "/tmp/ipykernel_26/333557774.py:26: UserWarning: To copy construct from a tensor, it is recommended to use sourceTensor.clone().detach() or sourceTensor.clone().detach().requires_grad_(True), rather than torch.tensor(sourceTensor).\n",
      "  return torch.tensor(im[:,lineStart:lineEnd+1,columnStart:columnEnd+1], dtype=torch.float)\n",
      "/tmp/ipykernel_26/1178128612.py:19: UserWarning: Implicit dimension choice for softmax has been deprecated. Change the call to include dim=X as an argument.\n",
      "  yprime = torch.argmax(torch.nn.functional.softmax(logits))\n"
     ]
    },
    {
     "name": "stdout",
     "output_type": "stream",
     "text": [
      "epoch:  165 / 200\n",
      " loss : -0.0 \n",
      " accuracy : 0.8582308845577211 \n"
     ]
    },
    {
     "name": "stderr",
     "output_type": "stream",
     "text": [
      "/tmp/ipykernel_26/333557774.py:26: UserWarning: To copy construct from a tensor, it is recommended to use sourceTensor.clone().detach() or sourceTensor.clone().detach().requires_grad_(True), rather than torch.tensor(sourceTensor).\n",
      "  return torch.tensor(im[:,lineStart:lineEnd+1,columnStart:columnEnd+1], dtype=torch.float)\n",
      "/tmp/ipykernel_26/1178128612.py:19: UserWarning: Implicit dimension choice for softmax has been deprecated. Change the call to include dim=X as an argument.\n",
      "  yprime = torch.argmax(torch.nn.functional.softmax(logits))\n"
     ]
    },
    {
     "name": "stdout",
     "output_type": "stream",
     "text": [
      "epoch:  168 / 200\n",
      " loss : -0.0 \n",
      " accuracy : 0.8666866566716641 \n"
     ]
    },
    {
     "name": "stderr",
     "output_type": "stream",
     "text": [
      "/tmp/ipykernel_26/333557774.py:26: UserWarning: To copy construct from a tensor, it is recommended to use sourceTensor.clone().detach() or sourceTensor.clone().detach().requires_grad_(True), rather than torch.tensor(sourceTensor).\n",
      "  return torch.tensor(im[:,lineStart:lineEnd+1,columnStart:columnEnd+1], dtype=torch.float)\n",
      "/tmp/ipykernel_26/1178128612.py:19: UserWarning: Implicit dimension choice for softmax has been deprecated. Change the call to include dim=X as an argument.\n",
      "  yprime = torch.argmax(torch.nn.functional.softmax(logits))\n"
     ]
    },
    {
     "name": "stdout",
     "output_type": "stream",
     "text": [
      "epoch:  171 / 200\n",
      " loss : 134776832.0 \n",
      " accuracy : 0.863928035982009 \n"
     ]
    },
    {
     "name": "stderr",
     "output_type": "stream",
     "text": [
      "/tmp/ipykernel_26/333557774.py:26: UserWarning: To copy construct from a tensor, it is recommended to use sourceTensor.clone().detach() or sourceTensor.clone().detach().requires_grad_(True), rather than torch.tensor(sourceTensor).\n",
      "  return torch.tensor(im[:,lineStart:lineEnd+1,columnStart:columnEnd+1], dtype=torch.float)\n",
      "/tmp/ipykernel_26/1178128612.py:19: UserWarning: Implicit dimension choice for softmax has been deprecated. Change the call to include dim=X as an argument.\n",
      "  yprime = torch.argmax(torch.nn.functional.softmax(logits))\n"
     ]
    },
    {
     "name": "stdout",
     "output_type": "stream",
     "text": [
      "epoch:  174 / 200\n",
      " loss : -0.0 \n",
      " accuracy : 0.8678260869565217 \n"
     ]
    },
    {
     "name": "stderr",
     "output_type": "stream",
     "text": [
      "/tmp/ipykernel_26/333557774.py:26: UserWarning: To copy construct from a tensor, it is recommended to use sourceTensor.clone().detach() or sourceTensor.clone().detach().requires_grad_(True), rather than torch.tensor(sourceTensor).\n",
      "  return torch.tensor(im[:,lineStart:lineEnd+1,columnStart:columnEnd+1], dtype=torch.float)\n",
      "/tmp/ipykernel_26/1178128612.py:19: UserWarning: Implicit dimension choice for softmax has been deprecated. Change the call to include dim=X as an argument.\n",
      "  yprime = torch.argmax(torch.nn.functional.softmax(logits))\n"
     ]
    },
    {
     "name": "stdout",
     "output_type": "stream",
     "text": [
      "epoch:  177 / 200\n",
      " loss : 300959744.0 \n",
      " accuracy : 0.8648275862068966 \n"
     ]
    },
    {
     "name": "stderr",
     "output_type": "stream",
     "text": [
      "/tmp/ipykernel_26/333557774.py:26: UserWarning: To copy construct from a tensor, it is recommended to use sourceTensor.clone().detach() or sourceTensor.clone().detach().requires_grad_(True), rather than torch.tensor(sourceTensor).\n",
      "  return torch.tensor(im[:,lineStart:lineEnd+1,columnStart:columnEnd+1], dtype=torch.float)\n",
      "/tmp/ipykernel_26/1178128612.py:19: UserWarning: Implicit dimension choice for softmax has been deprecated. Change the call to include dim=X as an argument.\n",
      "  yprime = torch.argmax(torch.nn.functional.softmax(logits))\n"
     ]
    },
    {
     "name": "stdout",
     "output_type": "stream",
     "text": [
      "epoch:  180 / 200\n",
      " loss : -0.0 \n",
      " accuracy : 0.8659670164917541 \n"
     ]
    },
    {
     "name": "stderr",
     "output_type": "stream",
     "text": [
      "/tmp/ipykernel_26/333557774.py:26: UserWarning: To copy construct from a tensor, it is recommended to use sourceTensor.clone().detach() or sourceTensor.clone().detach().requires_grad_(True), rather than torch.tensor(sourceTensor).\n",
      "  return torch.tensor(im[:,lineStart:lineEnd+1,columnStart:columnEnd+1], dtype=torch.float)\n",
      "/tmp/ipykernel_26/1178128612.py:19: UserWarning: Implicit dimension choice for softmax has been deprecated. Change the call to include dim=X as an argument.\n",
      "  yprime = torch.argmax(torch.nn.functional.softmax(logits))\n"
     ]
    },
    {
     "name": "stdout",
     "output_type": "stream",
     "text": [
      "epoch:  183 / 200\n",
      " loss : -0.0 \n",
      " accuracy : 0.8711244377811095 \n"
     ]
    },
    {
     "name": "stderr",
     "output_type": "stream",
     "text": [
      "/tmp/ipykernel_26/333557774.py:26: UserWarning: To copy construct from a tensor, it is recommended to use sourceTensor.clone().detach() or sourceTensor.clone().detach().requires_grad_(True), rather than torch.tensor(sourceTensor).\n",
      "  return torch.tensor(im[:,lineStart:lineEnd+1,columnStart:columnEnd+1], dtype=torch.float)\n",
      "/tmp/ipykernel_26/1178128612.py:19: UserWarning: Implicit dimension choice for softmax has been deprecated. Change the call to include dim=X as an argument.\n",
      "  yprime = torch.argmax(torch.nn.functional.softmax(logits))\n"
     ]
    },
    {
     "name": "stdout",
     "output_type": "stream",
     "text": [
      "epoch:  186 / 200\n",
      " loss : -0.0 \n",
      " accuracy : 0.871544227886057 \n"
     ]
    },
    {
     "name": "stderr",
     "output_type": "stream",
     "text": [
      "/tmp/ipykernel_26/333557774.py:26: UserWarning: To copy construct from a tensor, it is recommended to use sourceTensor.clone().detach() or sourceTensor.clone().detach().requires_grad_(True), rather than torch.tensor(sourceTensor).\n",
      "  return torch.tensor(im[:,lineStart:lineEnd+1,columnStart:columnEnd+1], dtype=torch.float)\n",
      "/tmp/ipykernel_26/1178128612.py:19: UserWarning: Implicit dimension choice for softmax has been deprecated. Change the call to include dim=X as an argument.\n",
      "  yprime = torch.argmax(torch.nn.functional.softmax(logits))\n"
     ]
    },
    {
     "name": "stdout",
     "output_type": "stream",
     "text": [
      "epoch:  189 / 200\n",
      " loss : 122992640.0 \n",
      " accuracy : 0.8691454272863568 \n"
     ]
    },
    {
     "name": "stderr",
     "output_type": "stream",
     "text": [
      "/tmp/ipykernel_26/333557774.py:26: UserWarning: To copy construct from a tensor, it is recommended to use sourceTensor.clone().detach() or sourceTensor.clone().detach().requires_grad_(True), rather than torch.tensor(sourceTensor).\n",
      "  return torch.tensor(im[:,lineStart:lineEnd+1,columnStart:columnEnd+1], dtype=torch.float)\n",
      "/tmp/ipykernel_26/1178128612.py:19: UserWarning: Implicit dimension choice for softmax has been deprecated. Change the call to include dim=X as an argument.\n",
      "  yprime = torch.argmax(torch.nn.functional.softmax(logits))\n"
     ]
    },
    {
     "name": "stdout",
     "output_type": "stream",
     "text": [
      "epoch:  192 / 200\n",
      " loss : 133602304.0 \n",
      " accuracy : 0.8735232383808096 \n"
     ]
    },
    {
     "name": "stderr",
     "output_type": "stream",
     "text": [
      "/tmp/ipykernel_26/333557774.py:26: UserWarning: To copy construct from a tensor, it is recommended to use sourceTensor.clone().detach() or sourceTensor.clone().detach().requires_grad_(True), rather than torch.tensor(sourceTensor).\n",
      "  return torch.tensor(im[:,lineStart:lineEnd+1,columnStart:columnEnd+1], dtype=torch.float)\n",
      "/tmp/ipykernel_26/1178128612.py:19: UserWarning: Implicit dimension choice for softmax has been deprecated. Change the call to include dim=X as an argument.\n",
      "  yprime = torch.argmax(torch.nn.functional.softmax(logits))\n"
     ]
    },
    {
     "name": "stdout",
     "output_type": "stream",
     "text": [
      "epoch:  195 / 200\n",
      " loss : -0.0 \n",
      " accuracy : 0.8745427286356822 \n"
     ]
    },
    {
     "name": "stderr",
     "output_type": "stream",
     "text": [
      "/tmp/ipykernel_26/333557774.py:26: UserWarning: To copy construct from a tensor, it is recommended to use sourceTensor.clone().detach() or sourceTensor.clone().detach().requires_grad_(True), rather than torch.tensor(sourceTensor).\n",
      "  return torch.tensor(im[:,lineStart:lineEnd+1,columnStart:columnEnd+1], dtype=torch.float)\n",
      "/tmp/ipykernel_26/1178128612.py:19: UserWarning: Implicit dimension choice for softmax has been deprecated. Change the call to include dim=X as an argument.\n",
      "  yprime = torch.argmax(torch.nn.functional.softmax(logits))\n"
     ]
    },
    {
     "name": "stdout",
     "output_type": "stream",
     "text": [
      "epoch:  198 / 200\n",
      " loss : -0.0 \n",
      " accuracy : 0.8763418290854573 \n"
     ]
    },
    {
     "name": "stderr",
     "output_type": "stream",
     "text": [
      "/tmp/ipykernel_26/333557774.py:26: UserWarning: To copy construct from a tensor, it is recommended to use sourceTensor.clone().detach() or sourceTensor.clone().detach().requires_grad_(True), rather than torch.tensor(sourceTensor).\n",
      "  return torch.tensor(im[:,lineStart:lineEnd+1,columnStart:columnEnd+1], dtype=torch.float)\n",
      "/tmp/ipykernel_26/1178128612.py:19: UserWarning: Implicit dimension choice for softmax has been deprecated. Change the call to include dim=X as an argument.\n",
      "  yprime = torch.argmax(torch.nn.functional.softmax(logits))\n"
     ]
    }
   ],
   "source": [
    "from sklearn.metrics import accuracy_score\n",
    "\n",
    "epochs = 200\n",
    "\n",
    "\n",
    "training_loss = []\n",
    "\n",
    "\n",
    "for e in range(epochs):    \n",
    "    preds = []\n",
    "    labels = []\n",
    "    for x,y,label in train:\n",
    "        model.train()\n",
    "        \n",
    "        logits = model(x,y)        \n",
    "#         print(logits)\n",
    "#         print(label)\n",
    "        \n",
    "        yprime = torch.argmax(torch.nn.functional.softmax(logits))\n",
    "        preds.append(yprime)\n",
    "        labels.append(label)\n",
    "        \n",
    "        loss = loss_fn(logits, label.to(device))\n",
    "        \n",
    "        \n",
    "        optimizer.zero_grad()\n",
    "        \n",
    "        \n",
    "        loss.backward()\n",
    "                \n",
    "        \n",
    "        optimizer.step()                \n",
    "        \n",
    "        \n",
    "        training_loss.append(loss.item())\n",
    "#         print(f\" loss : {loss.item()} \")\n",
    "    \n",
    "    if( e % 3 == 0):\n",
    "        print(\"epoch: \", str(e) ,\"/\", str(epochs))\n",
    "        \n",
    "        print(f\" loss : {loss} \")\n",
    "        print(f\" accuracy : {accuracy_score([l.cpu() for l in labels], [p.cpu() for p in  preds])} \")\n",
    "        \n",
    "        \n"
   ]
  },
  {
   "cell_type": "markdown",
   "id": "7e93f91f",
   "metadata": {
    "papermill": {
     "duration": 0.028791,
     "end_time": "2024-03-15T19:05:51.267941",
     "exception": false,
     "start_time": "2024-03-15T19:05:51.239150",
     "status": "completed"
    },
    "tags": []
   },
   "source": [
    "**All cases**"
   ]
  },
  {
   "cell_type": "code",
   "execution_count": 37,
   "id": "73e7fddd",
   "metadata": {
    "execution": {
     "iopub.execute_input": "2024-03-15T19:05:51.329458Z",
     "iopub.status.busy": "2024-03-15T19:05:51.328908Z",
     "iopub.status.idle": "2024-03-15T19:05:51.553341Z",
     "shell.execute_reply": "2024-03-15T19:05:51.552420Z"
    },
    "papermill": {
     "duration": 0.257897,
     "end_time": "2024-03-15T19:05:51.555553",
     "exception": false,
     "start_time": "2024-03-15T19:05:51.297656",
     "status": "completed"
    },
    "tags": []
   },
   "outputs": [
    {
     "data": {
      "text/plain": [
       "[<matplotlib.lines.Line2D at 0x7fa4cdd41b40>]"
      ]
     },
     "execution_count": 37,
     "metadata": {},
     "output_type": "execute_result"
    },
    {
     "data": {
      "image/png": "[encoded data removed]",
      "text/plain": [
       "<Figure size 640x480 with 1 Axes>"
      ]
     },
     "metadata": {},
     "output_type": "display_data"
    }
   ],
   "source": [
    "# Fix the loss !!\n",
    "plt.plot([i for i in range(len(training_loss[:20]))], training_loss[:20])"
   ]
  },
  {
   "cell_type": "code",
   "execution_count": 38,
   "id": "128718f9",
   "metadata": {
    "execution": {
     "iopub.execute_input": "2024-03-15T19:05:51.616542Z",
     "iopub.status.busy": "2024-03-15T19:05:51.616206Z",
     "iopub.status.idle": "2024-03-15T19:05:51.634491Z",
     "shell.execute_reply": "2024-03-15T19:05:51.633563Z"
    },
    "papermill": {
     "duration": 0.051182,
     "end_time": "2024-03-15T19:05:51.636617",
     "exception": false,
     "start_time": "2024-03-15T19:05:51.585435",
     "status": "completed"
    },
    "tags": []
   },
   "outputs": [],
   "source": [
    "im = torch.zeros_like(salinas_data)"
   ]
  },
  {
   "cell_type": "code",
   "execution_count": 39,
   "id": "16499154",
   "metadata": {
    "execution": {
     "iopub.execute_input": "2024-03-15T19:05:51.700743Z",
     "iopub.status.busy": "2024-03-15T19:05:51.700432Z",
     "iopub.status.idle": "2024-03-15T19:07:29.249096Z",
     "shell.execute_reply": "2024-03-15T19:07:29.247785Z"
    },
    "papermill": {
     "duration": 97.58308,
     "end_time": "2024-03-15T19:07:29.251814",
     "exception": false,
     "start_time": "2024-03-15T19:05:51.668734",
     "status": "completed"
    },
    "tags": []
   },
   "outputs": [
    {
     "name": "stderr",
     "output_type": "stream",
     "text": [
      "/tmp/ipykernel_26/708014705.py:5: UserWarning: Implicit dimension choice for softmax has been deprecated. Change the call to include dim=X as an argument.\n",
      "  yprime = torch.argmax(torch.nn.functional.softmax(logits))\n",
      "/tmp/ipykernel_26/333557774.py:26: UserWarning: To copy construct from a tensor, it is recommended to use sourceTensor.clone().detach() or sourceTensor.clone().detach().requires_grad_(True), rather than torch.tensor(sourceTensor).\n",
      "  return torch.tensor(im[:,lineStart:lineEnd+1,columnStart:columnEnd+1], dtype=torch.float)\n"
     ]
    }
   ],
   "source": [
    "with torch.inference_mode():\n",
    "    for i in range(im.shape[0]):\n",
    "        for j in range(im.shape[1]):            \n",
    "            logits = model(i,j)                \n",
    "            yprime = torch.argmax(torch.nn.functional.softmax(logits))\n",
    "            \n",
    "            im[i,j,0:3] = yprime"
   ]
  },
  {
   "cell_type": "code",
   "execution_count": 40,
   "id": "817aa71e",
   "metadata": {
    "execution": {
     "iopub.execute_input": "2024-03-15T19:07:29.328529Z",
     "iopub.status.busy": "2024-03-15T19:07:29.327638Z",
     "iopub.status.idle": "2024-03-15T19:07:29.333724Z",
     "shell.execute_reply": "2024-03-15T19:07:29.332801Z"
    },
    "papermill": {
     "duration": 0.042972,
     "end_time": "2024-03-15T19:07:29.335599",
     "exception": false,
     "start_time": "2024-03-15T19:07:29.292627",
     "status": "completed"
    },
    "tags": []
   },
   "outputs": [],
   "source": [
    "im_gray = torch.clone(im[:,:,0])"
   ]
  },
  {
   "cell_type": "code",
   "execution_count": 41,
   "id": "cce63aeb",
   "metadata": {
    "execution": {
     "iopub.execute_input": "2024-03-15T19:07:29.398715Z",
     "iopub.status.busy": "2024-03-15T19:07:29.398395Z",
     "iopub.status.idle": "2024-03-15T19:07:32.163801Z",
     "shell.execute_reply": "2024-03-15T19:07:32.163003Z"
    },
    "papermill": {
     "duration": 2.801661,
     "end_time": "2024-03-15T19:07:32.168302",
     "exception": false,
     "start_time": "2024-03-15T19:07:29.366641",
     "status": "completed"
    },
    "tags": []
   },
   "outputs": [],
   "source": [
    "for i in range(im.shape[0]):\n",
    "    for j in range(im.shape[1]):\n",
    "        im[i,j,0:3] = torch.tensor(colors[im[i,j,0].item()])        "
   ]
  },
  {
   "cell_type": "code",
   "execution_count": 42,
   "id": "a0afcce4",
   "metadata": {
    "execution": {
     "iopub.execute_input": "2024-03-15T19:07:32.230461Z",
     "iopub.status.busy": "2024-03-15T19:07:32.230131Z",
     "iopub.status.idle": "2024-03-15T19:07:32.421951Z",
     "shell.execute_reply": "2024-03-15T19:07:32.420941Z"
    },
    "papermill": {
     "duration": 0.225178,
     "end_time": "2024-03-15T19:07:32.423814",
     "exception": false,
     "start_time": "2024-03-15T19:07:32.198636",
     "status": "completed"
    },
    "tags": []
   },
   "outputs": [
    {
     "data": {
      "text/plain": [
       "<matplotlib.image.AxesImage at 0x7fa4cdea1b10>"
      ]
     },
     "execution_count": 42,
     "metadata": {},
     "output_type": "execute_result"
    },
    {
     "data": {
      "image/png": "[encoded data removed]",
      "text/plain": [
       "<Figure size 640x480 with 1 Axes>"
      ]
     },
     "metadata": {},
     "output_type": "display_data"
    }
   ],
   "source": [
    "plt.imshow(im[:,:,0:3], cmap=\"Accent\")"
   ]
  },
  {
   "cell_type": "code",
   "execution_count": 43,
   "id": "95a3ee7d",
   "metadata": {
    "execution": {
     "iopub.execute_input": "2024-03-15T19:07:32.487604Z",
     "iopub.status.busy": "2024-03-15T19:07:32.487303Z",
     "iopub.status.idle": "2024-03-15T19:07:32.657677Z",
     "shell.execute_reply": "2024-03-15T19:07:32.656798Z"
    },
    "papermill": {
     "duration": 0.204188,
     "end_time": "2024-03-15T19:07:32.659613",
     "exception": false,
     "start_time": "2024-03-15T19:07:32.455425",
     "status": "completed"
    },
    "tags": []
   },
   "outputs": [
    {
     "data": {
      "text/plain": [
       "<matplotlib.image.AxesImage at 0x7fa4cde15630>"
      ]
     },
     "execution_count": 43,
     "metadata": {},
     "output_type": "execute_result"
    },
    {
     "data": {
      "image/png": "[encoded data removed]",
      "text/plain": [
       "<Figure size 640x480 with 1 Axes>"
      ]
     },
     "metadata": {},
     "output_type": "display_data"
    }
   ],
   "source": [
    "#How the ground truth looks like\n",
    "plt.imshow(salinas_gt[\"salinas_gt\"], cmap=\"Accent\")"
   ]
  },
  {
   "cell_type": "code",
   "execution_count": 44,
   "id": "7e2cc48e",
   "metadata": {
    "execution": {
     "iopub.execute_input": "2024-03-15T19:07:32.724634Z",
     "iopub.status.busy": "2024-03-15T19:07:32.724309Z",
     "iopub.status.idle": "2024-03-15T19:07:32.892953Z",
     "shell.execute_reply": "2024-03-15T19:07:32.892119Z"
    },
    "papermill": {
     "duration": 0.20318,
     "end_time": "2024-03-15T19:07:32.894916",
     "exception": false,
     "start_time": "2024-03-15T19:07:32.691736",
     "status": "completed"
    },
    "tags": []
   },
   "outputs": [
    {
     "data": {
      "text/plain": [
       "<matplotlib.image.AxesImage at 0x7fa4ce3e80d0>"
      ]
     },
     "execution_count": 44,
     "metadata": {},
     "output_type": "execute_result"
    },
    {
     "data": {
      "image/png": "[encoded data removed]",
      "text/plain": [
       "<Figure size 640x480 with 1 Axes>"
      ]
     },
     "metadata": {},
     "output_type": "display_data"
    }
   ],
   "source": [
    "# what we got so far\n",
    "plt.imshow(im_gray, cmap=\"Accent\")"
   ]
  },
  {
   "cell_type": "code",
   "execution_count": 46,
   "id": "3f016a52",
   "metadata": {
    "execution": {
     "iopub.execute_input": "2024-03-15T19:07:33.037090Z",
     "iopub.status.busy": "2024-03-15T19:07:33.036809Z",
     "iopub.status.idle": "2024-03-15T19:07:33.047468Z",
     "shell.execute_reply": "2024-03-15T19:07:33.046790Z"
    },
    "papermill": {
     "duration": 0.045844,
     "end_time": "2024-03-15T19:07:33.049333",
     "exception": false,
     "start_time": "2024-03-15T19:07:33.003489",
     "status": "completed"
    },
    "tags": []
   },
   "outputs": [],
   "source": [
    "plt.imsave(\"Result_Image.jpg\",im_gray, cmap=\"Accent\")"
   ]
  },
  {
   "cell_type": "code",
   "execution_count": 47,
   "id": "931f8e10",
   "metadata": {
    "execution": {
     "iopub.execute_input": "2024-03-15T19:07:33.115616Z",
     "iopub.status.busy": "2024-03-15T19:07:33.115329Z",
     "iopub.status.idle": "2024-03-15T19:07:33.126299Z",
     "shell.execute_reply": "2024-03-15T19:07:33.125637Z"
    },
    "papermill": {
     "duration": 0.046166,
     "end_time": "2024-03-15T19:07:33.128124",
     "exception": false,
     "start_time": "2024-03-15T19:07:33.081958",
     "status": "completed"
    },
    "tags": []
   },
   "outputs": [],
   "source": [
    "torch.save(model.state_dict(), \"ground_cover_model.cpt\")"
   ]
  },
  {
   "cell_type": "code",
   "execution_count": null,
   "id": "b2c41693",
   "metadata": {
    "papermill": {
     "duration": 0.031909,
     "end_time": "2024-03-15T19:07:33.192455",
     "exception": false,
     "start_time": "2024-03-15T19:07:33.160546",
     "status": "completed"
    },
    "tags": []
   },
   "outputs": [],
   "source": []
  },
  {
   "cell_type": "code",
   "execution_count": null,
   "id": "b5a1f047",
   "metadata": {
    "papermill": {
     "duration": 0.032243,
     "end_time": "2024-03-15T19:07:33.256664",
     "exception": false,
     "start_time": "2024-03-15T19:07:33.224421",
     "status": "completed"
    },
    "tags": []
   },
   "outputs": [],
   "source": []
  },
  {
   "cell_type": "code",
   "execution_count": null,
   "id": "5aa8101a",
   "metadata": {
    "papermill": {
     "duration": 0.032715,
     "end_time": "2024-03-15T19:07:33.322748",
     "exception": false,
     "start_time": "2024-03-15T19:07:33.290033",
     "status": "completed"
    },
    "tags": []
   },
   "outputs": [],
   "source": []
  }
 ],
 "metadata": {
  "kaggle": {
   "accelerator": "gpu",
   "dataSources": [
    {
     "datasetId": 4473495,
     "sourceId": 7670044,
     "sourceType": "datasetVersion"
    }
   ],
   "dockerImageVersionId": 30646,
   "isGpuEnabled": true,
   "isInternetEnabled": true,
   "language": "python",
   "sourceType": "notebook"
  },
  "kernelspec": {
   "display_name": "Python 3",
   "language": "python",
   "name": "python3"
  },
  "language_info": {
   "codemirror_mode": {
    "name": "ipython",
    "version": 3
   },
   "file_extension": ".py",
   "mimetype": "text/x-python",
   "name": "python",
   "nbconvert_exporter": "python",
   "pygments_lexer": "ipython3",
   "version": "3.10.13"
  },
  "papermill": {
   "default_parameters": {},
   "duration": 10154.72375,
   "end_time": "2024-03-15T19:07:36.060888",
   "environment_variables": {},
   "exception": null,
   "input_path": "__notebook__.ipynb",
   "output_path": "__notebook__.ipynb",
   "parameters": {},
   "start_time": "2024-03-15T16:18:21.337138",
   "version": "2.5.0"
  }
 },
 "nbformat": 4,
 "nbformat_minor": 5
}
